{
 "cells": [
  {
   "cell_type": "markdown",
   "metadata": {
    "pycharm": {
     "name": "#%% md\n"
    }
   },
   "source": [
    "Praktikum NLP:\n",
    "\n",
    "ToDo:\n",
    "- Load dataset √\n",
    "\n",
    "- Dependency Parsing\n",
    "\n",
    "- Extracting aspects (phrases/sentiment-words)\n",
    "\n",
    "    - Summarize aspects for each hotel\n",
    "\n",
    "    - Calculate sentiment scores for each aspect (TextBlob, VADER, etc...)\n",
    "\n",
    "- Analyse 5 most common aspects\n",
    "\n",
    "- Dump into graphs for the presentation"
   ]
  },
  {
   "cell_type": "code",
   "execution_count": 3,
   "metadata": {
    "pycharm": {
     "name": "#%%\n"
    }
   },
   "outputs": [],
   "source": [
    "#Load data\n",
    "\n",
    "import pandas as pd\n",
    "import re\n",
    "import spacy\n",
    "import nltk\n",
    "from nltk.tokenize import word_tokenize\n",
    "from nltk.stem.snowball import SnowballStemmer\n",
    "import string\n",
    "\n",
    "with open('Hotel_Reviews_part1.csv') as file:\n",
    "    df = pd.read_csv(file)\n",
    "\n",
    "\n"
   ]
  },
  {
   "cell_type": "code",
   "execution_count": 4,
   "metadata": {
    "pycharm": {
     "name": "#%%\n"
    }
   },
   "outputs": [
    {
     "name": "stderr",
     "output_type": "stream",
     "text": [
      "/var/folders/xw/_l0rmmc5059811kqz4qt5k4c0000gn/T/ipykernel_97473/492218809.py:40: FutureWarning: Passing a negative integer is deprecated in version 1.0 and will not be supported in future version. Instead, use None to not limit the column width.\n",
      "  pd.set_option(\"display.max_colwidth\", -1)\n"
     ]
    }
   ],
   "source": [
    "## Clean data\n",
    "\n",
    "# Delete redundant and empty reviews\n",
    "\n",
    "def preprocessing_reviews(df):\n",
    "    df.drop(df[ df['Negative_Review'] == 'No Negative'].index)\n",
    "    df.drop(df[ df['Positive_Review'] == 'No Positive'].index)\n",
    "    df.drop_duplicates(keep=False)\n",
    "\n",
    "# Split into sentences and add dots to positive reviews and negative reviews\n",
    "    for text in df['Positive_Review']:\n",
    "        parts_of_review = re.findall('[A-Z][^A-Z]*', text)\n",
    "        for index, sentence in enumerate(parts_of_review):\n",
    "            if \"I \" or \"i \" in sentence:\n",
    "                parts_of_review[index : index +1] = [''.join(parts_of_review[index : index + 1])]\n",
    "            parts_of_review[index] = sentence.strip() + \".\"\n",
    "        complete_review = ' '.join(parts_of_review)\n",
    "\n",
    "        # correct 'n t'|'nt'|'n t' to ' not'\n",
    "        complete_review = re.sub(r'n\\s+t|n\\'t|nt', ' not',complete_review)\n",
    "        df['Positive_Review'] = df['Positive_Review'].replace([text], complete_review)\n",
    "\n",
    "    for text in df['Negative_Review']:\n",
    "        parts_of_review = re.findall('[A-Z][^A-Z]*', text)\n",
    "        for index, sentence in enumerate(parts_of_review):\n",
    "            if \"I \" or \"i \" in sentence:\n",
    "                parts_of_review[index : index +1] = [''.join(parts_of_review[index : index + 1])]\n",
    "            parts_of_review[index] = sentence.strip() + \".\"\n",
    "        complete_review = ' '.join(parts_of_review)\n",
    "\n",
    "        # correct 'n t'|'nt'|'n t' to ' not'\n",
    "        complete_review = re.sub(r'n\\s+t|n\\'t|nt', ' not',complete_review)\n",
    "        df['Negative_Review'] = df['Negative_Review'].replace([text], complete_review)\n",
    "\n",
    "    return df\n",
    "\n",
    "\n",
    "\n",
    "df = preprocessing_reviews(df)\n",
    "pd.set_option(\"display.max_colwidth\", -1)\n",
    "\n",
    "# Quick check if wanted\n",
    "#print(df['Negative_Review'])\n",
    "#print(df['Positive_Review'])\n",
    "\n",
    "\n",
    "\n",
    "\n",
    "# Remove stopwords\n",
    "\n",
    "#nlp = spacy.load(\"en_core_web_sm\")\n",
    "#stopword_list = nltk.corpus.stopwords.words('english')\n",
    "\n",
    "\n",
    "# lower case\n",
    "\n",
    "\n",
    "# Lemmatization\n",
    "\n",
    "\n",
    "\n",
    "\n"
   ]
  },
  {
   "cell_type": "code",
   "execution_count": 5,
   "metadata": {
    "pycharm": {
     "name": "#%%\n"
    }
   },
   "outputs": [],
   "source": [
    "# Dependency parsing\n",
    "\n",
    "import nltk\n",
    "\n",
    "\n",
    "\n",
    "def dependency_parsing(df):\n",
    "    for sentence in df:\n",
    "        break\n",
    "  #      doc = nlp(sentence)\n",
    "\n",
    "\n"
   ]
  },
  {
   "cell_type": "code",
   "execution_count": 6,
   "outputs": [],
   "source": [
    "# In Addition:\n",
    "\n",
    "# make Sentiment Analysis (only simple one: Textblob) for positive and negative reviews and check, if it fits,\n",
    "#                otherwise drop the review\n",
    "# -> example: \"I am so angry that i made this post available via all possible sites i use when planing my trips so\n",
    "#              no one will make the mistake of booking this place\"\n",
    "# maybe handle orthographical mistakes before splitting into sentences\n",
    "#\n",
    "\n"
   ],
   "metadata": {
    "collapsed": false,
    "pycharm": {
     "name": "#%%\n"
    }
   }
  },
  {
   "cell_type": "code",
   "execution_count": 7,
   "metadata": {
    "pycharm": {
     "name": "#%%\n"
    }
   },
   "outputs": [],
   "source": [
    "# Define rules for extracting aspects: keywords:\n",
    "\n",
    "# Aspect food: restaurant, breakfast, dinner, lunch, bar\n",
    "# Aspect helpfulness: staff, personell, clerk, service, check-in\n",
    "# Aspect price: cheap, expensive, euros, ...?\n",
    "# Aspect cleanliness: bed, matress, bathroom, floor, sheets, \"changed daily\", shower\n",
    "# Aspect features/equipment:  USB-port, wifi, airconditioning, showergel, shampoo, furniture, roomservice, bathtub\n",
    "# Aspect connectivity: bus, tram, train, airportshuttle, parking\n",
    "# Aspect property: stairs (steep), building, (under-)construction, renovation, location, citycenter, sightseeing\n"
   ]
  },
  {
   "cell_type": "markdown",
   "metadata": {
    "pycharm": {
     "name": "#%% md\n"
    }
   },
   "source": [
    "Presentation: Spatial-Mapping where hotels are // where guests are from\n",
    "=> maybe what aspects are mentioned by primarily by guests by nationality or positive/negative in general\n",
    "\n"
   ]
  }
 ],
 "metadata": {
  "interpreter": {
   "hash": "6f049eae06be2d9659f07064771e050196e08c4cb3d463a4121c4b0cf3f028cd"
  },
  "kernelspec": {
   "display_name": "Python 3.9.10 ('PraktikumVenv': venv)",
   "language": "python",
   "name": "python3"
  },
  "language_info": {
   "codemirror_mode": {
    "name": "ipython",
    "version": 3
   },
   "file_extension": ".py",
   "mimetype": "text/x-python",
   "name": "python",
   "nbconvert_exporter": "python",
   "pygments_lexer": "ipython3",
   "version": "3.9.12"
  },
  "orig_nbformat": 4
 },
 "nbformat": 4,
 "nbformat_minor": 2
}