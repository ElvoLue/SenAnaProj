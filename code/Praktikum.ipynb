{
 "cells": [
  {
   "cell_type": "markdown",
   "metadata": {
    "pycharm": {
     "name": "#%% md\n"
    }
   },
   "source": [
    "Praktikum NLP:\n",
    "\n",
    "ToDo:\n",
    "- Load dataset √\n",
    "\n",
    "- Dependency Parsing\n",
    "\n",
    "- Extracting aspects (phrases/sentiment-words)\n",
    "\n",
    "    - Summarize aspects for each hotel\n",
    "\n",
    "    - Calculate sentiment scores for each aspect (TextBlob, VADER, etc...)\n",
    "\n",
    "- Analyse 5 most common aspects\n",
    "\n",
    "- Dump into graphs for the presentation"
   ]
  },
  {
   "cell_type": "code",
   "execution_count": 17,
   "metadata": {
    "collapsed": false,
    "pycharm": {
     "name": "#%%\n"
    }
   },
   "outputs": [],
   "source": [
    "#Load data\n",
    "\n",
    "import pandas as pd\n",
    "import re\n",
    "import spacy\n",
    "import nltk\n",
    "from nltk.tokenize import word_tokenize\n",
    "from nltk.stem.snowball import SnowballStemmer\n",
    "from nltk.stem import WordNetLemmatizer \n",
    "import string\n",
    "from collections import Counter\n",
    "from textblob import TextBlob\n",
    "\n",
    "#nltk.download('wordnet')\n",
    "#nltk.download('omw-1.4')\n",
    "\n",
    "\n",
    "with open('../../include/Hotel_Reviews.csv') as file:\n",
    "#with open('Hotel_Reviews.csv') as file:\n",
    "    df = pd.read_csv(file, nrows=10)\n",
    "\n",
    "\n",
    "#!pip install spacy\n",
    "#!python -m spacy download en_core_web_sm\n",
    "\n",
    "\n",
    "\n",
    "\n",
    "\n",
    "nlp = spacy.load(\"en_core_web_sm\")\n",
    "\n",
    "\n"
   ]
  },
  {
   "cell_type": "code",
   "execution_count": 18,
   "metadata": {
    "collapsed": false,
    "pycharm": {
     "name": "#%%\n"
    }
   },
   "outputs": [
    {
     "name": "stdout",
     "output_type": "stream",
     "text": [
      "                                               Hotel_Address  \\\n",
      "0   s Gravesandestraat 55 Oost 1092 AA Amsterdam Netherlands   \n",
      "1   s Gravesandestraat 55 Oost 1092 AA Amsterdam Netherlands   \n",
      "2   s Gravesandestraat 55 Oost 1092 AA Amsterdam Netherlands   \n",
      "3   s Gravesandestraat 55 Oost 1092 AA Amsterdam Netherlands   \n",
      "4   s Gravesandestraat 55 Oost 1092 AA Amsterdam Netherlands   \n",
      "5   s Gravesandestraat 55 Oost 1092 AA Amsterdam Netherlands   \n",
      "6   s Gravesandestraat 55 Oost 1092 AA Amsterdam Netherlands   \n",
      "7   s Gravesandestraat 55 Oost 1092 AA Amsterdam Netherlands   \n",
      "8   s Gravesandestraat 55 Oost 1092 AA Amsterdam Netherlands   \n",
      "9   s Gravesandestraat 55 Oost 1092 AA Amsterdam Netherlands   \n",
      "\n",
      "   Additional_Number_of_Scoring Review_Date  Average_Score   Hotel_Name  \\\n",
      "0                           194    8/3/2017            7.7  Hotel Arena   \n",
      "1                           194    8/3/2017            7.7  Hotel Arena   \n",
      "2                           194   7/31/2017            7.7  Hotel Arena   \n",
      "3                           194   7/31/2017            7.7  Hotel Arena   \n",
      "4                           194   7/24/2017            7.7  Hotel Arena   \n",
      "5                           194   7/24/2017            7.7  Hotel Arena   \n",
      "6                           194   7/17/2017            7.7  Hotel Arena   \n",
      "7                           194   7/17/2017            7.7  Hotel Arena   \n",
      "8                           194    7/9/2017            7.7  Hotel Arena   \n",
      "9                           194    7/8/2017            7.7  Hotel Arena   \n",
      "\n",
      "  Reviewer_Nationality  \\\n",
      "0              Russia    \n",
      "1             Ireland    \n",
      "2           Australia    \n",
      "3      United Kingdom    \n",
      "4         New Zealand    \n",
      "5              Poland    \n",
      "6      United Kingdom    \n",
      "7      United Kingdom    \n",
      "8             Belgium    \n",
      "9              Norway    \n",
      "\n",
      "                                                                                                                                                                                                                                                                                                                                                                                                                                                                                                                                                                                                                                                                                                                                                                                                                                                                                                                                                                                                                                                                                                                                                                                                                                                                                                                                                                                                                                                                                                                                                                                                                                                                                                                                                                                                                                                                                                                                                 Negative_Review  \\\n",
      "0  I am so angry that i made this post available via all possible sites i use when planing my trips so no one will make the mistake of booking this place. I made my booking via booking com. We stayed for 6 nights in this hotel from 11 to 17. July. Upon arrival we were placed in a small room on the 2nd floor of the hotel. It turned out that this was not the room we booked. I had specially reserved the 2 level duplex room so that we would have a big windows and high ceilings. The room itself was ok if you do notmind the broken window that can not be closed hello rain and a mini fridge that contained some sort of a bio weapon at least i guessed so by the smell of it. I intimately asked to change the room and after explaining 2 times that i booked a duplex btw it costs the same as a simple double but got way more volume due to the high ceiling was offered a room but only the next day. S. O i had to check out the next day before 11 o clock in order to get the room i waned to. Not the best way to begin your holiday. So we had to wait till 13 00 in order to check in my new room what a wonderful waist of my time. The room 023 i got was just as i wanted to peaceful internal garden view big window. We were tired from waiting the room so we placed our belongings and rushed to the city. In the evening it turned out that there was a constant noise in the room i guess it was made by vibrating vent tubes or something it was constant and annoying as hell. A. N. D it did not stop even at 2 am making it hard to fall asleep for me and my wife. I have an audio recording that i can not attach here but if you want i can send it via e mail. The next day the technician came but was not able to determine the cause of the disturbing sound so i was offered to change the room once again the hotel was fully booked and they had only 1 room left the one that was smaller but seems newer.   \n",
      "1                                                                                                                                                                                                                                                                                                                                                                                                                                                                                                                                                                                                                                                                                                                                                                                                                                                                                                                                                                                                                                                                                                                                                                                                                                                                                                                                                                                                                                                                                                                                                                                                                                                                                                                                                                                                                                                                                                                                                  No. Negative.   \n",
      "2                                                                                                                                                                                                                                                                                                                                                                                                                                                                                                                                                                                                                                                                                                                                                                                                                                                                                                                                                                                                                                                                                                                                                                                                                                                                                                                                                                                                                                                                                                                                                                                                                                                                                                                                                Rooms are nice but for elderly a bit difficult as most rooms are two story with narrow steps. So ask for single level. Inside the rooms are very very basic just tea coffee and boiler and no bar empty fridge.   \n",
      "3                                                                                                                                                                                                                                                                                                                                                                                                                                                                                                                                                                                                                                                                                                                                                                                                                              My room was dirty and. I was afraid to walk barefoot on the floor which looked as if it was not cleaned in weeks. White furniture which looked nice in pictures was dirty too and the door looked like it was attacked by an angry dog. My shower drain was clogged and the staff did not respond to my request to clean it. On a day with heavy rainfall a pretty common occurrence in. Amsterdam the roof in my room was leaking luckily not on the bed you could also see signs of earlier water damage. I also saw insects running on the floor. Overall the second floor of the property looked dirty and badly kept. On top of all of this a repairman who came to fix something in a room next door at midnight was very noisy as were many of the guests. I understand the challenges of running a hotel in an old building but this negligence is inconsistent with prices demanded by the hotel. On the last night after. I complained about water damage the night shift manager offered to move me to a different room but that offer came pretty late around midnight when. I was already in bed and ready to sleep.   \n",
      "4                                                                                                                                                                                                                                                                                                                                                                                                                                                                                                                                                                                                                                                                                                                                                                                                                                                                                                                                                                                                                                                                                                                                                                                             You. When. I booked with your company on line you showed me pictures of a room. I thought. I was getting and paying for and then when we arrived that s room was booked and the staff told me we could only book the villa suite theough them directly. Which was completely false advertising. After being there we realised that you have grouped lots of rooms on the photos together leaving me the consumer confused and extreamly disgruntled especially as its my my wife s 40th birthday present. Please make your website more clear through pricing and photos as again. I did notreally know what. I was paying for and how much it had wnded up being. Your photos told me. I was getting something. I wasn t. Not happy and wo notbe using you again.   \n",
      "5                                                                                                                                                                                                                                                                                                                                                                                                                                                                                                                                                                                                                                                                                                                                                                                                                                                                                                                                                                                                                                                                                                                                                                                                                                                                                                                                                                                                                                                                                                                                                                                                                                                                                                                                                                                                                                                                                    Backyard of the hotel is total mess should nothappen in hotel with 4 stars.   \n",
      "6                                                                                                                                                                                                                                                                                                                                                                                                                                                                                                                                                                                                                                                                                                                                                                                                                                                                                                                                                                                                                                                                                                                                                                                                                                                                                                                                                                                                                                                                                                                                                                                                                                                                                                                                                                                                        Cleaner did not change our sheet and duvet everyday but just made bed. They also did notclean the floor and changed the body gel when we run out of it.   \n",
      "7                                                                                                                                                                                                                                                                                                                                                                                                                                                                                                                                                                                                                                                                                                                                                                                                                                                                                                                                                                                                                                                                                                                                                                                                                                                                                                                                                                                                                                                                                                                                                                                                                                                                                                                                                                                                                                                                                                   Apart from the price for the brekfast. Everything very good.   \n",
      "8                                                                                                                                                                                                                                                                                                                                                                                                                                                                                                                                                                                                                                                                                                                                                                                                                                                                                                                                                                                                                                                                                                                                                                                                                                                                                                                                                                                                                                                                                                                                                                                                                                                                                                                                                                                            Even though the pictures show very clean rooms the actual room was quit dirty and outlived. Also check in is at 15 o clock but our room was not ready at that time.   \n",
      "9                                                                                                                                                                                                                                                                                                                                                                                                                                                                                                                                                                                                                                                                                                                                                                                                                                                                                                                                                                                                                                                                                                                                                                                                                                                                                                                                                                                                                                                                                                                                                                                                                                                                                                                                                                                                                                                                                           The aircondition makes so much noise and its hard to sleep at night.   \n",
      "\n",
      "   Review_Total_Negative_Word_Counts  Total_Number_of_Reviews  \\\n",
      "0                                397                     1403   \n",
      "1                                  0                     1403   \n",
      "2                                 42                     1403   \n",
      "3                                210                     1403   \n",
      "4                                140                     1403   \n",
      "5                                 17                     1403   \n",
      "6                                 33                     1403   \n",
      "7                                 11                     1403   \n",
      "8                                 34                     1403   \n",
      "9                                 15                     1403   \n",
      "\n",
      "                                                                                                                                                                                                                                                                                                                                                                                                                                                                                                                                                                                                                           Positive_Review  \\\n",
      "0                                                                                                                                                                                                                                                                                                                                                                                                                                                                                                                                                                                        Only the park outside of the hotel was beautiful.   \n",
      "1  No real complaints the hotel was great great location surroundings rooms amenities and service. Two recommendations however firstly the staff upon check in are very confusing regarding deposit payments and the staff offer you upon checkout to refund your original payment and you can make a new one. Bit confusing. Secondly the on site restaurant is a bit lacking very well thought out and excellent quality food for anyone of a vegetarian or vegan background but even a wrap or toasted sandwich option would be great. Aside from those minor minor things fantastic spot and will be back when i return to. Amsterdam.   \n",
      "2                                                                                                                                                                                                                                                                                                                                                                                                                                                                                                                                         Location was good and staff were ok. It is cute hotel the breakfast range is nice. Will go back.   \n",
      "3                                                                                                                                                                                                                                                                                                                                                                                                                                                                                          Great location in nice surroundings the bar and restaurant are nice and have a lovely outdoor area. The building also has quite some character.   \n",
      "4                                                                                                                                                                                                                                                                                                                                                                                                                                                                                                                                                                                         Amazing location and building. Romantic setting.   \n",
      "5                                                                                                                                                                                                                                                                                                                                                                                                                                                                                                                           Good restaurant with modern design great chill out place. Great park nearby the hotel and awesome main stairs.   \n",
      "6                                                                                                                                                                                                                                                                                                                                                                                                                                                                                                                                                     The room is spacious and bright. The hotel is located in a quiet and beautiful park.   \n",
      "7                                                                                                                                                                                                                                                                                                                                                                                                                                                                                                                                    Good location. Set in a lovely park friendly staff. Food high quality. We. Oth enjoyed the breakfast.   \n",
      "8                                                                                                                                                                                                                                                                                                                                                                                                                                                                                                                                                                                                                            No. Positive.   \n",
      "9                                                                                                                                                                                                                                                                                                                                                                                     The room was big enough and the bed is good. The breakfast food and service on the hotel is good outside the hotel there is a big park which is very good for walk in the morning and evening. Many people are having picnics and do some bicycling.   \n",
      "\n",
      "   Review_Total_Positive_Word_Counts  \\\n",
      "0                                 11   \n",
      "1                                105   \n",
      "2                                 21   \n",
      "3                                 26   \n",
      "4                                  8   \n",
      "5                                 20   \n",
      "6                                 18   \n",
      "7                                 19   \n",
      "8                                  0   \n",
      "9                                 50   \n",
      "\n",
      "   Total_Number_of_Reviews_Reviewer_Has_Given  Reviewer_Score  \\\n",
      "0                                           7             2.9   \n",
      "1                                           7             7.5   \n",
      "2                                           9             7.1   \n",
      "3                                           1             3.8   \n",
      "4                                           3             6.7   \n",
      "5                                           1             6.7   \n",
      "6                                           6             4.6   \n",
      "7                                           1            10.0   \n",
      "8                                           3             6.5   \n",
      "9                                           1             7.9   \n",
      "\n",
      "                                                                                                                                  Tags  \\\n",
      "0                                                          [' Leisure trip ', ' Couple ', ' Duplex Double Room ', ' Stayed 6 nights ']   \n",
      "1                                                          [' Leisure trip ', ' Couple ', ' Duplex Double Room ', ' Stayed 4 nights ']   \n",
      "2  [' Leisure trip ', ' Family with young children ', ' Duplex Double Room ', ' Stayed 3 nights ', ' Submitted from a mobile device ']   \n",
      "3                                                   [' Leisure trip ', ' Solo traveler ', ' Duplex Double Room ', ' Stayed 3 nights ']   \n",
      "4                                   [' Leisure trip ', ' Couple ', ' Suite ', ' Stayed 2 nights ', ' Submitted from a mobile device ']   \n",
      "5                                                            [' Leisure trip ', ' Group ', ' Duplex Double Room ', ' Stayed 1 night ']   \n",
      "6                         [' Leisure trip ', ' Group ', ' Duplex Twin Room ', ' Stayed 5 nights ', ' Submitted from a mobile device ']   \n",
      "7                      [' Leisure trip ', ' Couple ', ' Duplex Double Room ', ' Stayed 2 nights ', ' Submitted from a mobile device ']   \n",
      "8                       [' Leisure trip ', ' Couple ', ' Duplex Double Room ', ' Stayed 1 night ', ' Submitted from a mobile device ']   \n",
      "9                                                             [' Leisure trip ', ' Couple ', ' Large King Room ', ' Stayed 7 nights ']   \n",
      "\n",
      "  days_since_review        lat       lng  \n",
      "0            0 days  52.360576  4.915968  \n",
      "1            0 days  52.360576  4.915968  \n",
      "2            3 days  52.360576  4.915968  \n",
      "3            3 days  52.360576  4.915968  \n",
      "4           10 days  52.360576  4.915968  \n",
      "5           10 days  52.360576  4.915968  \n",
      "6           17 days  52.360576  4.915968  \n",
      "7           17 days  52.360576  4.915968  \n",
      "8           25 days  52.360576  4.915968  \n",
      "9           26 days  52.360576  4.915968  \n"
     ]
    }
   ],
   "source": [
    "## Clean data\n",
    "\n",
    "# Delete redundant and empty reviews\n",
    "\n",
    "def preprocessing_reviews(df):\n",
    "    df.drop(df[ df['Negative_Review'] == 'No Negative'].index)\n",
    "    df.drop(df[ df['Positive_Review'] == 'No Positive'].index)\n",
    "    df.drop_duplicates(keep=False)\n",
    "\n",
    "# Split into sentences and add dots to positive reviews and negative reviews\n",
    "    for text in df['Positive_Review']:\n",
    "        parts_of_review = re.findall('[A-Z][^A-Z]*', text)\n",
    "        for index, sentence in enumerate(parts_of_review):\n",
    "            if \"I \" or \"i \" in sentence:\n",
    "                parts_of_review[index : index +1] = [''.join(parts_of_review[index : index + 1])]\n",
    "            parts_of_review[index] = sentence.strip() + \".\"\n",
    "        complete_review = ' '.join(parts_of_review)\n",
    "\n",
    "        # correct 'n t'|'nt'|'n t' to ' not'\n",
    "        complete_review = re.sub(r'n\\s+t |n\\'t ', ' not',complete_review)\n",
    "        df['Positive_Review'] = df['Positive_Review'].replace([text], complete_review)\n",
    "\n",
    "    for text in df['Negative_Review']:\n",
    "        parts_of_review = re.findall('[A-Z][^A-Z]*', text)\n",
    "        for index, sentence in enumerate(parts_of_review):\n",
    "            if \"I \" or \"i \" in sentence:\n",
    "                parts_of_review[index : index +1] = [''.join(parts_of_review[index : index + 1])]\n",
    "            parts_of_review[index] = sentence.strip() + \".\"\n",
    "        complete_review = ' '.join(parts_of_review)\n",
    "\n",
    "        # correct 'n t'|'nt'|'n t' to ' not'\n",
    "        complete_review = re.sub(r'n\\s+t |n\\'t ', ' not',complete_review)\n",
    "        #        complete_review = re.sub(r'n\\s+t|n\\'t|nt ', ' not',complete_review)\n",
    "        df['Negative_Review'] = df['Negative_Review'].replace([text], complete_review)\n",
    "\n",
    "    return df\n",
    "\n",
    "\n",
    "df = preprocessing_reviews(df)\n",
    "pd.set_option(\"display.max_colwidth\", None) # -1?\n",
    "\n",
    "#TODO: Maybe i and I will lead to problems...\n",
    "#TODO: payments <= payme nots, restaurants <= restaura not, romantic <= Roma notic\n",
    "# My room was dirty and. I was afraid to walk barefoot o nothe floor \n",
    "\n",
    "# Quick check if wanted\n",
    "#print(df['Negative_Review'])\n",
    "#print(df['Positive_Review'])\n",
    "\n",
    "\n",
    "\n",
    "\n",
    "# Remove stopwords\n",
    "\n",
    "#nlp = spacy.load(\"en_core_web_sm\")\n",
    "#stopword_list = nltk.corpus.stopwords.words('english')\n",
    "\n",
    "\n",
    "# lower case\n",
    "\n",
    "\n",
    "# Lemmatization\n",
    "\n",
    "print(df)\n",
    "\n",
    "\n"
   ]
  },
  {
   "cell_type": "code",
   "execution_count": null,
   "metadata": {},
   "outputs": [],
   "source": []
  },
  {
   "cell_type": "code",
   "execution_count": 19,
   "metadata": {
    "collapsed": false,
    "pycharm": {
     "name": "#%%\n"
    }
   },
   "outputs": [],
   "source": [
    "# maybe check for words with \"...nt\" and then split the nt. Then check, if it's a verb. If yes, change from \"didnt\" to \"did not\" with a regex. (If not, leave it)\n",
    "\n",
    "aspects_pos = []\n",
    "aspects_neg = []\n",
    "\n",
    "\n",
    "for review in df[\"Negative_Review\"]:\n",
    "  doc = nlp(review)\n",
    "  descriptors = ''\n",
    "  aspect = ''\n",
    "  for token in doc:\n",
    "    negation = False\n",
    "    for negative_token in doc:\n",
    "      if negative_token.dep_ == 'neg' and negative_token.head == token: negation = True \n",
    "    if token.dep_ == 'nsubj' and token.pos_ == 'NOUN':\n",
    "      aspect = token.text\n",
    "    if token.pos_ == 'ADJ':\n",
    "      prepend = ''\n",
    "      for child in token.children:\n",
    "        if child.pos_ != 'ADV': \n",
    "          continue\n",
    "        prepend += child.text + ' '\n",
    "      descriptors = prepend + token.text\n",
    "  aspects_neg.append({'aspect': aspect,\n",
    "    'description': descriptors, 'negation': negation})\n",
    "aspects_neg = pd.DataFrame(aspects_neg)\n",
    "#print(pd.DataFrame(aspects_neg))\n",
    "\n",
    "  #negation.extend([tok for tok in doc if tok.dep_ == 'neg'])\n",
    "for review in df[\"Positive_Review\"]:\n",
    "  doc = nlp(review)\n",
    "  descriptors = ''\n",
    "  aspect = ''\n",
    "  for token in doc:\n",
    "    negation = False\n",
    "    for negative_token in doc:\n",
    "      if negative_token.dep_ == 'neg' and negative_token.head == token: negation = True \n",
    "    if token.dep_ == 'nsubj' and token.pos_ == 'NOUN':\n",
    "      aspect = token.text\n",
    "    if token.pos_ == 'ADJ':\n",
    "      prepend = ''\n",
    "      for child in token.children:\n",
    "        if child.pos_ != 'ADV':\n",
    "          continue\n",
    "        prepend += child.text + ' '\n",
    "      descriptors = prepend + token.text\n",
    "  aspects_pos.append({'aspect': aspect,\n",
    "    'description': descriptors, 'negation': negation})\n",
    "aspects_pos = pd.DataFrame(aspects_pos)\n",
    "#print(pd.DataFrame(aspects_pos))\n",
    "\n",
    "\n",
    "\n"
   ]
  },
  {
   "cell_type": "code",
   "execution_count": 20,
   "metadata": {
    "collapsed": false,
    "pycharm": {
     "name": "#%%\n"
    }
   },
   "outputs": [],
   "source": [
    "\n",
    "for boolean in aspects_neg['negation']:\n",
    "    if boolean == True: print(\"true\")\n",
    "\n",
    "for boolean in aspects_pos['negation']:\n",
    "    if boolean == True: print(\"true\")\n"
   ]
  },
  {
   "cell_type": "code",
   "execution_count": 21,
   "metadata": {
    "collapsed": false,
    "pycharm": {
     "name": "#%%\n"
    }
   },
   "outputs": [
    {
     "name": "stdout",
     "output_type": "stream",
     "text": [
      "Counter({'room': 3, '': 3, 'offer': 1, 'photo': 1, 'mess': 1, 'noise': 1}) \n",
      "\n",
      "Counter({'': 4, 'park': 1, 'option': 1, 'range': 1, 'building': 1, 'room': 1, 'people': 1})\n"
     ]
    }
   ],
   "source": [
    "\"\"\"countStemmer = Counter()\n",
    "\n",
    "for aspect in aspects['aspect']:\n",
    "    aspect = stemmer.stem( aspect)\n",
    "    aspect = aspect.lower()\n",
    "    countStemmer[aspect] += 1\n",
    "\n",
    "print(countStemmer)\"\"\"\n",
    "\n",
    "\n",
    "lemmatizer = WordNetLemmatizer()\n",
    "stemmer = SnowballStemmer(\"english\")\n",
    "\n",
    "countLemmaPos = Counter()\n",
    "countLemmaNeg = Counter()\n",
    "\n",
    "\n",
    "for aspect in aspects_pos['aspect']:\n",
    "    aspect = lemmatizer.lemmatize(aspect)\n",
    "    aspect = aspect.lower()\n",
    "    countLemmaPos[aspect] += 1\n",
    "\n",
    "\n",
    "for aspect in aspects_neg['aspect']:\n",
    "    aspect = lemmatizer.lemmatize(aspect)\n",
    "    aspect = aspect.lower()\n",
    "    countLemmaNeg[aspect] += 1\n",
    "\n",
    "print(countLemmaNeg, \"\\n\")\n",
    "print(countLemmaPos)\n",
    "\n",
    "\n",
    "\n",
    "    "
   ]
  },
  {
   "cell_type": "code",
   "execution_count": 22,
   "metadata": {
    "collapsed": false,
    "pycharm": {
     "name": "#%%\n"
    }
   },
   "outputs": [],
   "source": [
    "sentiment_pos = []\n",
    "for aspect in aspects_pos['description']:\n",
    "  sentiment_pos.append(TextBlob(aspect).sentiment)\n",
    "aspects_pos['sentiment'] = sentiment_pos\n",
    "\n",
    "sentiment_neg = []\n",
    "for aspect in aspects_neg['description']:\n",
    "  sentiment_neg.append(TextBlob(aspect).sentiment)\n",
    "aspects_neg['sentiment'] = sentiment_neg\n"
   ]
  },
  {
   "cell_type": "code",
   "execution_count": 23,
   "metadata": {
    "collapsed": false,
    "pycharm": {
     "name": "#%%\n"
    }
   },
   "outputs": [
    {
     "name": "stdout",
     "output_type": "stream",
     "text": [
      "   aspect description  negation                                 sentiment\n",
      "0    room       newer     False                                (0.0, 0.0)\n",
      "1            Negative     False                               (-0.3, 0.4)\n",
      "2   rooms       empty     False                               (-0.1, 0.5)\n",
      "3   offer       ready     False                                (0.2, 0.5)\n",
      "4  photos       happy     False                                (0.8, 1.0)\n",
      "5    mess       total     False                               (0.0, 0.75)\n",
      "6                         False                                (0.0, 0.0)\n",
      "7           very good     False  (0.9099999999999999, 0.7800000000000001)\n",
      "8    room       ready     False                                (0.2, 0.5)\n",
      "9   noise     so much     False                                (0.2, 0.2)\n"
     ]
    }
   ],
   "source": [
    "print(aspects_neg)"
   ]
  },
  {
   "cell_type": "code",
   "execution_count": 24,
   "metadata": {
    "collapsed": false,
    "pycharm": {
     "name": "#%%\n"
    }
   },
   "outputs": [],
   "source": [
    "# Dependency parsing\n",
    "\n",
    "import nltk\n",
    "\n",
    "\n",
    "\n",
    "def dependency_parsing(df):\n",
    "    for sentence in df:\n",
    "        break\n",
    "  #      doc = nlp(sentence)\n",
    "\n",
    "\n"
   ]
  },
  {
   "cell_type": "code",
   "execution_count": 25,
   "metadata": {
    "collapsed": false,
    "pycharm": {
     "name": "#%%\n"
    }
   },
   "outputs": [],
   "source": [
    "# In Addition:\n",
    "\n",
    "# I assume we are not supposed to do topic modeling, just \"simple\" rule based aspect extraction... right?\n",
    "\n",
    "# make Sentiment Analysis (only simple one: Textblob) for positive and negative reviews and check, if it fits,\n",
    "#                otherwise drop the review\n",
    "# -> example: \"I am so angry that i made this post available via all possible sites i use when planing my trips so\n",
    "#              no one will make the mistake of booking this place\"\n",
    "# maybe handle orthographical mistakes before splitting into sentences\n",
    "#\n",
    "\n"
   ]
  },
  {
   "cell_type": "code",
   "execution_count": 26,
   "metadata": {
    "pycharm": {
     "name": "#%%\n"
    }
   },
   "outputs": [
    {
     "name": "stdout",
     "output_type": "stream",
     "text": [
      "Counter({'room': 3, '': 3, 'offer': 1, 'photo': 1, 'mess': 1, 'noise': 1}) \n",
      "\n",
      "Counter({'': 4, 'park': 1, 'option': 1, 'range': 1, 'building': 1, 'room': 1, 'people': 1})\n"
     ]
    }
   ],
   "source": [
    "\"\"\"countStemmer = Counter()\n",
    "\n",
    "for aspect in aspects['aspect']:\n",
    "    aspect = stemmer.stem( aspect)\n",
    "    aspect = aspect.lower()\n",
    "    countStemmer[aspect] += 1\n",
    "\n",
    "print(countStemmer)\"\"\"\n",
    "\n",
    "\n",
    "lemmatizer = WordNetLemmatizer()\n",
    "stemmer = SnowballStemmer(\"english\")\n",
    "\n",
    "countLemmaPos = Counter()\n",
    "countLemmaNeg = Counter()\n",
    "\n",
    "\n",
    "for aspect in aspects_pos['aspect']:\n",
    "    aspect = lemmatizer.lemmatize(aspect)\n",
    "    aspect = aspect.lower()\n",
    "    countLemmaPos[aspect] += 1\n",
    "\n",
    "\n",
    "for aspect in aspects_neg['aspect']:\n",
    "    aspect = lemmatizer.lemmatize(aspect)\n",
    "    aspect = aspect.lower()\n",
    "    countLemmaNeg[aspect] += 1\n",
    "\n",
    "print(countLemmaNeg, \"\\n\")\n",
    "print(countLemmaPos)\n",
    "\n",
    "\n",
    "\n",
    "    "
   ]
  },
  {
   "cell_type": "code",
   "execution_count": 27,
   "metadata": {
    "pycharm": {
     "name": "#%%\n"
    }
   },
   "outputs": [],
   "source": [
    "sentiment_pos = []\n",
    "for aspect in aspects_pos['description']:\n",
    "  sentiment_pos.append(TextBlob(aspect).sentiment)\n",
    "aspects_pos['sentiment'] = sentiment_pos\n",
    "\n",
    "sentiment_neg = []\n",
    "for aspect in aspects_neg['description']:\n",
    "  sentiment_neg.append(TextBlob(aspect).sentiment)\n",
    "aspects_neg['sentiment'] = sentiment_neg\n"
   ]
  },
  {
   "cell_type": "code",
   "execution_count": 28,
   "metadata": {
    "pycharm": {
     "name": "#%%\n"
    }
   },
   "outputs": [
    {
     "name": "stdout",
     "output_type": "stream",
     "text": [
      "   aspect description  negation                                 sentiment\n",
      "0    room       newer     False                                (0.0, 0.0)\n",
      "1            Negative     False                               (-0.3, 0.4)\n",
      "2   rooms       empty     False                               (-0.1, 0.5)\n",
      "3   offer       ready     False                                (0.2, 0.5)\n",
      "4  photos       happy     False                                (0.8, 1.0)\n",
      "5    mess       total     False                               (0.0, 0.75)\n",
      "6                         False                                (0.0, 0.0)\n",
      "7           very good     False  (0.9099999999999999, 0.7800000000000001)\n",
      "8    room       ready     False                                (0.2, 0.5)\n",
      "9   noise     so much     False                                (0.2, 0.2)\n"
     ]
    }
   ],
   "source": [
    "print(aspects_neg)"
   ]
  },
  {
   "cell_type": "code",
   "execution_count": 29,
   "metadata": {
    "pycharm": {
     "name": "#%%\n"
    }
   },
   "outputs": [],
   "source": [
    "# Dependency parsing\n",
    "\n",
    "import nltk\n",
    "\n",
    "\n",
    "\n",
    "def dependency_parsing(df):\n",
    "    for sentence in df:\n",
    "        break\n",
    "  #      doc = nlp(sentence)\n",
    "\n",
    "\n"
   ]
  },
  {
   "cell_type": "code",
   "execution_count": 30,
   "metadata": {
    "collapsed": false,
    "pycharm": {
     "name": "#%%\n"
    }
   },
   "outputs": [],
   "source": [
    "# In Addition:\n",
    "\n",
    "# I assume we are not supposed to do topic modeling, just \"simple\" rule based aspect extraction... right?\n",
    "\n",
    "# make Sentiment Analysis (only simple one: Textblob) for positive and negative reviews and check, if it fits,\n",
    "#                otherwise drop the review\n",
    "# -> example: \"I am so angry that i made this post available via all possible sites i use when planing my trips so\n",
    "#              no one will make the mistake of booking this place\"\n",
    "# maybe handle orthographical mistakes before splitting into sentences\n",
    "#\n",
    "\n"
   ]
  },
  {
   "cell_type": "code",
   "execution_count": 31,
   "metadata": {
    "pycharm": {
     "name": "#%%\n"
    }
   },
   "outputs": [],
   "source": [
    "# Define rules for extracting aspects: keywords:\n",
    "\n",
    "# Aspect food: restaurant, breakfast, dinner, lunch, bar\n",
    "# Aspect helpfulness: staff, personell, clerk, service, check-in\n",
    "# Aspect price: cheap, expensive, euros, ...?\n",
    "# Aspect cleanliness: bed, matress, bathroom, floor, sheets, \"changed daily\", shower\n",
    "# Aspect features/equipment:  USB-port, wifi, airconditioning, showergel, shampoo, furniture, roomservice, bathtub\n",
    "# Aspect connectivity: bus, tram, train, airportshuttle, parking\n",
    "# Aspect property: stairs (steep), building, (under-)construction, renovation, location, citycenter, sightseeing\n"
   ]
  },
  {
   "cell_type": "markdown",
   "metadata": {
    "pycharm": {
     "name": "#%% md\n"
    }
   },
   "source": [
    "Presentation: Spatial-Mapping where hotels are // where guests are from\n",
    "=> maybe what aspects are mentioned by primarily by guests by nationality or positive/negative in general\n",
    "\n"
   ]
  }
 ],
 "metadata": {
  "interpreter": {
   "hash": "e43f124e1ea1d991d0c91ea6d45435c58cf7e4d64007c2e350d71ef52ef4b11c"
  },
  "kernelspec": {
   "display_name": "Python 3.9.12 ('venv': venv)",
   "language": "python",
   "name": "python3"
  },
  "language_info": {
   "codemirror_mode": {
    "name": "ipython",
    "version": 3
   },
   "file_extension": ".py",
   "mimetype": "text/x-python",
   "name": "python",
   "nbconvert_exporter": "python",
   "pygments_lexer": "ipython3",
   "version": "3.9.12"
  },
  "orig_nbformat": 4
 },
 "nbformat": 4,
 "nbformat_minor": 2
}
