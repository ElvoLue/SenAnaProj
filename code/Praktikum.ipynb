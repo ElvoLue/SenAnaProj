{
 "cells": [
  {
   "cell_type": "markdown",
   "metadata": {},
   "source": [
    "Praktikum NLP:\n",
    "\n",
    "ToDo:\n",
    "- Load dataset √\n",
    "\n",
    "- Dependency Parsing\n",
    "\n",
    "- Extracting aspects (phrases/sentiment-words)\n",
    "\n",
    "    - Summarize aspects for each hotel\n",
    "\n",
    "    - Calculate sentiment scores for each aspect (TextBlob, VADER, etc...)\n",
    "\n",
    "- Analyse 5 most common aspects\n",
    "\n",
    "- Dump into graphs for the presentation"
   ]
  },
  {
   "cell_type": "code",
   "execution_count": 6,
   "metadata": {},
   "outputs": [],
   "source": [
    "#Load data\n",
    "\n",
    "import pandas as pd\n",
    " \n",
    "df = pd.read_csv('../../include/Hotel_Reviews.csv')\n",
    "\n",
    "\n"
   ]
  },
  {
   "cell_type": "code",
   "execution_count": null,
   "metadata": {},
   "outputs": [],
   "source": [
    "# Choose Hotels => 50 with most reviews\n",
    "\n",
    "# Clean data:\n",
    "\n",
    "# Remove redundent comments (\"no positive/negative\")\n",
    "\n",
    "# Remove duplicates\n",
    "\n",
    "# Add punctuation in front of all capital letters\n",
    "\n",
    "# \"n´t\" => \" not\" \n",
    "\n",
    "# DP\n",
    "\n",
    "# Lowercasing\n",
    "\n",
    "# Remove stopwords \n",
    "\n",
    "# Lemmatization, POS-Tagging?\n",
    "\n"
   ]
  },
  {
   "cell_type": "code",
   "execution_count": 4,
   "metadata": {},
   "outputs": [],
   "source": [
    "# Define rules for extracting aspects: keywords:\n",
    "\n",
    "# Aspect food: restaurant, breakfast, dinner, lunch, bar\n",
    "# Aspect helpfulness: staff, personell, clerk, service, check-in\n",
    "# Aspect price: cheap, expensive, euros, ...?\n",
    "# Aspect cleanliness: bed, matress, bathroom, floor, sheets, \"changed daily\", shower\n",
    "# Aspect features/equipment:  USB-port, wifi, airconditioning, showergel, shampoo, futniture, roomservice, bathtub\n",
    "# Aspect connectivity: bus, tram, train, airportshuttle, parking\n",
    "# Aspect property: stairs (steep), building, (under-)construction, renovation, location, citycenter, sightseeing\n"
   ]
  },
  {
   "cell_type": "markdown",
   "metadata": {},
   "source": [
    "Presentation: Spatial-Mapping where hotels are // where guests are from\n",
    "=> maybe what aspects are mentioned by primarily by guests by nationality or positive/negative in general\n",
    "\n"
   ]
  }
 ],
 "metadata": {
  "interpreter": {
   "hash": "6f049eae06be2d9659f07064771e050196e08c4cb3d463a4121c4b0cf3f028cd"
  },
  "kernelspec": {
   "display_name": "Python 3.9.10 ('PraktikumVenv': venv)",
   "language": "python",
   "name": "python3"
  },
  "language_info": {
   "codemirror_mode": {
    "name": "ipython",
    "version": 3
   },
   "file_extension": ".py",
   "mimetype": "text/x-python",
   "name": "python",
   "nbconvert_exporter": "python",
   "pygments_lexer": "ipython3",
   "version": "3.9.12"
  },
  "orig_nbformat": 4
 },
 "nbformat": 4,
 "nbformat_minor": 2
}
