{
 "cells": [
  {
   "cell_type": "markdown",
   "metadata": {
    "pycharm": {
     "name": "#%% md\n"
    }
   },
   "source": [
    "Praktikum NLP:\n",
    "\n",
    "ToDo:\n",
    "- Load dataset √\n",
    "\n",
    "- Dependency Parsing\n",
    "\n",
    "- Extracting aspects (phrases/sentiment-words)\n",
    "\n",
    "    - Summarize aspects for each hotel\n",
    "\n",
    "    - Calculate sentiment scores for each aspect (TextBlob, VADER, etc...)\n",
    "\n",
    "- Analyse 5 most common aspects\n",
    "\n",
    "- Dump into graphs for the presentation"
   ]
  },
  {
   "cell_type": "code",
   "execution_count": 21,
   "metadata": {
    "pycharm": {
     "name": "#%%\n"
    }
   },
   "outputs": [],
   "source": [
    "#Load data\n",
    "\n",
    "import re\n",
    "import spacy\n",
    "import nltk\n",
    "from nltk.tokenize import word_tokenize\n",
    "from nltk.stem.snowball import SnowballStemmer\n",
    "import string\n",
    "import pandas as pd\n",
    " \n",
    "df = pd.read_csv('Hotel_Reviews.csv')\n",
    "\n",
    "\n"
   ]
  },
  {
   "cell_type": "code",
   "execution_count": 22,
   "metadata": {
    "pycharm": {
     "name": "#%%\n"
    }
   },
   "outputs": [
    {
     "ename": "AttributeError",
     "evalue": "'NoneType' object has no attribute 'type'",
     "output_type": "error",
     "traceback": [
      "\u001B[0;31m---------------------------------------------------------------------------\u001B[0m",
      "\u001B[0;31mAttributeError\u001B[0m                            Traceback (most recent call last)",
      "Input \u001B[0;32mIn [22]\u001B[0m, in \u001B[0;36m<module>\u001B[0;34m\u001B[0m\n\u001B[1;32m     31\u001B[0m                 fragments \u001B[38;5;241m=\u001B[39m [item \u001B[38;5;241m+\u001B[39m \u001B[38;5;124m'\u001B[39m\u001B[38;5;124m.\u001B[39m\u001B[38;5;124m'\u001B[39m \u001B[38;5;28;01mfor\u001B[39;00m item \u001B[38;5;129;01min\u001B[39;00m fragments]\n\u001B[1;32m     43\u001B[0m df \u001B[38;5;241m=\u001B[39m delete_wrong_reviews(df)\n\u001B[0;32m---> 45\u001B[0m df \u001B[38;5;241m=\u001B[39m \u001B[43madd_dots\u001B[49m\u001B[43m(\u001B[49m\u001B[43mdf\u001B[49m\u001B[43m)\u001B[49m\n",
      "Input \u001B[0;32mIn [22]\u001B[0m, in \u001B[0;36madd_dots\u001B[0;34m(df)\u001B[0m\n\u001B[1;32m     13\u001B[0m \u001B[38;5;28;01mdef\u001B[39;00m \u001B[38;5;21madd_dots\u001B[39m (df):\n\u001B[0;32m---> 14\u001B[0m     \u001B[38;5;28mprint\u001B[39m(\u001B[43mdf\u001B[49m\u001B[38;5;241;43m.\u001B[39;49m\u001B[43mtype\u001B[49m)\n\u001B[1;32m     15\u001B[0m     \u001B[38;5;28;01mfor\u001B[39;00m text \u001B[38;5;129;01min\u001B[39;00m df[\u001B[38;5;124m'\u001B[39m\u001B[38;5;124mPositive_Review\u001B[39m\u001B[38;5;124m'\u001B[39m]:\n\u001B[1;32m     16\u001B[0m         fragments \u001B[38;5;241m=\u001B[39m re\u001B[38;5;241m.\u001B[39mfindall(\u001B[38;5;124m'\u001B[39m\u001B[38;5;124m[A-Z][^A-Z]*\u001B[39m\u001B[38;5;124m'\u001B[39m, text)\n",
      "\u001B[0;31mAttributeError\u001B[0m: 'NoneType' object has no attribute 'type'"
     ]
    }
   ],
   "source": [
    "## Clean data\n",
    "\n",
    "# Delete redundant and empty reviews\n",
    "\n",
    "def delete_wrong_reviews(df):\n",
    "    df =  df[df['Negative_Review'] != \"No Negative\"]\n",
    "    df =  df[df['Positive_Review'] != \"No Positive\"]\n",
    "    df.drop_duplicates(keep=False)\n",
    "\n",
    "\n",
    "# Add dots to pos rew and neg rew\n",
    "\n",
    "def add_dots (df):\n",
    "    print(df.type)\n",
    "    for text in df['Positive_Review']:\n",
    "        fragments = re.findall('[A-Z][^A-Z]*', text)\n",
    "        for sentence in fragments:\n",
    "            if \"I \" in sentence:\n",
    "                fragments[sentence : sentence+1] = [''.join(fragments[sentence : sentence+1])]\n",
    "                fragments = [item + '.' for item in fragments]\n",
    "            else:\n",
    "                fragments = [item + '.' for item in fragments]\n",
    "\n",
    "    for text in df['Negative_Review']:\n",
    "        fragments = re.findall('[A-Z][^A-Z]*', text)\n",
    "        for sentence in fragments:\n",
    "            if \"I \" in sentence:\n",
    "                fragments[sentence : sentence+1] = [''.join(fragments[sentence : sentence+1])]\n",
    "                fragments = [item + '.' for item in fragments]\n",
    "            else:\n",
    "                fragments = [item + '.' for item in fragments]\n",
    "\n",
    "\n",
    "\n",
    "\n",
    "\n",
    "\n",
    "\n",
    "\n",
    "\n",
    "\n",
    "\n",
    "df = delete_wrong_reviews(df)\n",
    "\n",
    "df = add_dots(df)\n",
    "\n",
    "\n",
    "# Remove stopwords\n",
    "\n",
    "#nlp = spacy.load(\"en_core_web_sm\")\n",
    "#stopword_list = nltk.corpus.stopwords.words('english')\n",
    "\n",
    "\n",
    "# lower case\n",
    "\n",
    "\n",
    "# Lemmatization\n"
   ]
  },
  {
   "cell_type": "code",
   "execution_count": 3,
   "metadata": {
    "pycharm": {
     "name": "#%%\n"
    }
   },
   "outputs": [],
   "source": [
    "# Dependency parsing\n",
    "\n",
    "def dependency_parsing(df):\n",
    "    for sentence in df:\n",
    "        break\n",
    "  #      doc = nlp(sentence)\n",
    "\n"
   ]
  },
  {
   "cell_type": "code",
   "execution_count": 4,
   "metadata": {
    "pycharm": {
     "name": "#%%\n"
    }
   },
   "outputs": [],
   "source": [
    "# Define rules for extracting aspects: keywords:\n",
    "\n",
    "# Aspect food: restaurant, breakfast, dinner, lunch, bar\n",
    "# Aspect helpfulness: staff, personell, clerk, service, check-in\n",
    "# Aspect price: cheap, expensive, euros, ...?\n",
    "# Aspect cleanliness: bed, matress, bathroom, floor, sheets, \"changed daily\", shower\n",
    "# Aspect features/equipment:  USB-port, wifi, airconditioning, showergel, shampoo, futniture, roomservice, bathtub\n",
    "# Aspect connectivity: bus, tram, train, airportshuttle, parking\n",
    "# Aspect property: stairs (steep), building, (under-)construction, renovation, location, citycenter, sightseeing\n"
   ]
  },
  {
   "cell_type": "markdown",
   "metadata": {
    "pycharm": {
     "name": "#%% md\n"
    }
   },
   "source": [
    "Presentation: Spatial-Mapping where hotels are // where guests are from\n",
    "=> maybe what aspects are mentioned by primarily by guests by nationality or positive/negative in general\n",
    "\n"
   ]
  }
 ],
 "metadata": {
  "interpreter": {
   "hash": "6f049eae06be2d9659f07064771e050196e08c4cb3d463a4121c4b0cf3f028cd"
  },
  "kernelspec": {
   "display_name": "Python 3.9.10 ('PraktikumVenv': venv)",
   "language": "python",
   "name": "python3"
  },
  "language_info": {
   "codemirror_mode": {
    "name": "ipython",
    "version": 3
   },
   "file_extension": ".py",
   "mimetype": "text/x-python",
   "name": "python",
   "nbconvert_exporter": "python",
   "pygments_lexer": "ipython3",
   "version": "3.9.12"
  },
  "orig_nbformat": 4
 },
 "nbformat": 4,
 "nbformat_minor": 2
}