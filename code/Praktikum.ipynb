{
 "cells": [
  {
   "cell_type": "markdown",
   "metadata": {
    "pycharm": {
     "name": "#%% md\n"
    }
   },
   "source": [
    "Praktikum NLP:\n",
    "\n",
    "ToDo:\n",
    "- Load dataset √\n",
    "\n",
    "- Dependency Parsing\n",
    "\n",
    "- Extracting aspects (phrases/sentiment-words)\n",
    "\n",
    "    - Summarize aspects for each hotel\n",
    "\n",
    "    - Calculate sentiment scores for each aspect (TextBlob, VADER, etc...)\n",
    "\n",
    "- Analyse 5 most common aspects\n",
    "\n",
    "- Dump into graphs for the presentation"
   ]
  },
  {
   "cell_type": "code",
   "execution_count": 6,
   "outputs": [],
   "source": [
    "#Load data\n",
    "\n",
    "import pandas as pd\n",
    "import re\n",
    "import spacy\n",
    "import nltk\n",
    "from nltk.tokenize import word_tokenize\n",
    "from nltk.stem.snowball import SnowballStemmer\n",
    "from nltk.stem import WordNetLemmatizer \n",
    "import string\n",
    "from collections import Counter\n",
    "from textblob import TextBlob\n",
    "\n",
    "#nltk.download('wordnet')\n",
    "#nltk.download('omw-1.4')\n",
    "\n",
    "\n",
    "with open('../../include/Hotel_Reviews.csv') as file:\n",
    "#with open('Hotel_Reviews.csv') as file:\n",
    "    df = pd.read_csv(file, nrows=10000)\n",
    "\n",
    "\n",
    "#!pip install spacy\n",
    "#!python -m spacy download en_core_web_sm\n",
    "\n",
    "\n",
    "\n",
    "\n",
    "\n",
    "nlp = spacy.load(\"en_core_web_sm\")\n",
    "\n",
    "\n"
   ],
   "metadata": {
    "collapsed": false,
    "pycharm": {
     "name": "#%%\n"
    }
   }
  },
  {
   "cell_type": "code",
   "execution_count": 9,
   "outputs": [
    {
     "name": "stdout",
     "output_type": "stream",
     "text": [
      "0       I am so angry that i made this post available via all possible sites i use when planing my trips so no one will make the mistake of booking this place... I made my booking via booking com... We stayed for 6 nights i nothis hotel from 11 to 17... July... Upon arrival we were placed in a small room o nothe 2nd floor of the hotel... It turned out that this was not the room we booked... I had specially reserved the 2 level duplex room so that we would have a big windows and high ceilings... The room itself was ok if you do not mind the broken window that can not be closed hello rain and a mini fridge that contained some sort of a bio weapon at least i guessed so by the smell of it... I intimately asked to change the room and after explaining 2 times that i booked a duplex btw it costs the same as a simple double but got way more volume due to the high ceiling was offered a room but only the next day... S... O i had to check out the next day before 11 o clock in order to get the room i waned to... Not the best way to begin your holiday... So we had to wait till 13 00 in order to check in my new room what a wonderful waist of my time... The room 023 i got was just as i wanted to peaceful internal garden view big window... We were tired from waiting the room so we placed our belongings and rushed to the city... I nothe evening it turned out that there was a consta notnoise i nothe room i guess it was made by vibrating ve nottubes or something it was consta notand annoying as hell... A... N... D it did not stop even at 2 am making it hard to fall asleep for me and my wife... I have an audio recording that i can not attach here but if you wa noti can send it via e mail... The next day the technician came but was not able to determine the cause of the disturbing sound so i was offered to change the room once agai nothe hotel was fully booked and they had only 1 room left the one that was smaller but seems newer...\n",
      "1                                                                                                                                                                                                                                                                                                                                                                                                                                                                                                                                                                                                                                                                                                                                                                                                                                                                                                                                                                                                                                                                                                                                                                                                                                                                                                                                                                                                                                                                                                                                                                                                                                                                                                                                                                                                                                                                                                                                                                                                       No... Negative...\n",
      "2                                                                                                                                                                                                                                                                                                                                                                                                                                                                                                                                                                                                                                                                                                                                                                                                                                                                                                                                                                                                                                                                                                                                                                                                                                                                                                                                                                                                                                                                                                                                                                                                                                                                                                                                                                                                   Rooms are nice but for elderly a bit difficult as most rooms are two story with narrow steps... So ask for single level... Inside the rooms are very very basic just tea coffee and boiler and no bar empty fridge...\n",
      "3                                                                                                                                                                                                                                                                                                                                                                                                                                                                                                                                                                                                                                                                                                                                                                                                                                                      My room was dirty and... I was afraid to walk barefoot o nothe floor which looked as if it was not cleaned in weeks... White furniture which looked nice in pictures was dirty too and the door looked like it was attacked by an angry dog... My shower drain was clogged and the staff did not respond to my request to clean it... On a day with heavy rainfall a pretty common occurrence in... Amsterdam the roof in my room was leaking luckily not o nothe bed you could also see signs of earlier water damage... I also saw insects running o nothe floor... Overall the second floor of the property looked dirty and badly kept... O notop of all of this a repairman who came to fix something in a room next door at midnight was very noisy as were many of the guests... I understand the challenges of running a hotel in an old building but this negligence is inconsiste notwith prices demanded by the hotel... O nothe last night after... I complained about water damage the night shift manager offered to move me to a differe notroom but that offer came pretty late around midnight when... I was already in bed and ready to sleep...\n",
      "4                                                                                                                                                                                                                                                                                                                                                                                                                                                                                                                                                                                                                                                                                                                                                                                                                                                                                                                                                                                                                                                                                                                                                                                                                      You... When... I booked with your company on line you showed me pictures of a room... I thought... I was getting and paying for and then when we arrived that s room was booked and the staff told me we could only book the villa suite theough them directly... Which was completely false advertising... After being there we realised that you have grouped lots of rooms o nothe photos together leaving me the consumer confused and extreamly disgruntled especially as its my my wife s 40th birthday present... Please make your website more clear through pricing and photos as again... I did not really know what... I was paying for and how much it had wnded up being... Your photos told me... I was getting something... I was not... Not happy and wo not be using you again...\n",
      "                                                                                                                                                                                                                                                                                                                                                                                                                                                                                                                                                                                                                                                                                                                                                                                                                                                                                                                                                                                                              ...                                                                                                                                                                                                                                                                                                                                                                                                                                                                                                                                                                                                                                                                                                                                                                                                                                                                                                                                                                                                        \n",
      "9995                                                                                                                                                                                                                                                                                                                                                                                                                                                                                                                                                                                                                                                                                                                                                                                                                                                                                                                                                                                                                                                                                                                                                                                                                                                                                                                                                                                                                                                                                                                                                                                                                                                                                                                                                                                                                                                                                                                                                                                                    No... Negative...\n",
      "9996                                                                                                                                                                                                                                                                                                                                                                                                                                                                                                                                                                                                                                                                                                                                                                                                                                                                                                                                                                                                                                                                                                                                                                                                                                                                                                                                                                                                                                                                                                                                                                                                                                                                                                                                                                                                                                                                                                                                                                                                         Room size...\n",
      "9997                                                                                                                                                                                                                                                                                                                                                                                                                                                                                                                                                                                                                                                                                                                                                                                                                                                                                                                                                                                                                                                                                                                                                                                                                                                                                                                                                                                                                                                                                                                                                                                                                                                                                                                                                                                                                                                                                                                                                                                   Room very small... Very cramped...\n",
      "9998                                                                                                                                                                                                                                                                                                                                                                                                                                                                                                                                                                                                                                                                                                                                                                                                                                                                                                                                                                                                                                                                                                                                                                                                                                                                                                                                                                                                                                                                                                                                                                                                                                                                                                                                                                                                                                                                                                                                                                                                    No... Negative...\n",
      "9999                                                                                                                                                                                                                                                                                                                                                                                                                                                                                                                                                                                                                                                                                                                                                                                                                                                                                                                                                                                                                                                                                                                                                                                                                                                                                                                                                                                                                                                                                                                                                                                                                                                                                                                                                                                                                                                                                                                                                                                            Windows... Were broken...\n",
      "Name: Negative_Review, Length: 10000, dtype: object\n",
      "0                                                                                                                                                                                                                                                                                                                                                                                                                                                                                                                                                                                                           Only the park outside of the hotel was beautiful...\n",
      "1       No real complaints the hotel was great great location surroundings rooms amenities and service... Two recommendations however firstly the staff upon check in are very confusing regarding deposit payments and the staff offer you upon checkout to refund your original payme notand you can make a new one... Bit confusing... Secondly the on site restaura notis a bit lacking very well thought out and excelle notquality food for anyone of a vegetarian or vegan background but even a wrap or toasted sandwich option would be great... Aside from those minor minor things fantastic spot and will be back when i retur noto... Amsterdam...\n",
      "2                                                                                                                                                                                                                                                                                                                                                                                                                                                                                                                                                        Location was good and staff were ok... It is cute hotel the breakfast range is nice... Will go back...\n",
      "3                                                                                                                                                                                                                                                                                                                                                                                                                                                                                                          Great location in nice surroundings the bar and restaura notare nice and have a lovely outdoor area... The building also has quite some character...\n",
      "4                                                                                                                                                                                                                                                                                                                                                                                                                                                                                                                                                                                                          Amazing location and building... Romantic setting...\n",
      "                                                                                                                                                                                                                                                                                                                                 ...                                                                                                                                                                                                                                                                                                                           \n",
      "9995                                                                                                                                                                                                                                                                                                                                                                                                                                                                                                                                                                                                                                                           \n",
      "9996                                                                                                                                                                                                                                                                                                                                                                                                                                                                                                                                                                                                                           The staff are really friendly...\n",
      "9997                                                                                                                                                                                                                                                                                                                                                                                                                                                                                                                                                                                                                                                Friendly...\n",
      "9998                                                                                                                                                                                                                                                                                                                                                                                                                                                                                                                                                                                                Beds were extra comfy... Staff very friendly and helpful...\n",
      "9999                                                                                                                                                                                                                                                                                                                                                                                                                                                                                                                                                                                                                                Breakfast... Was horible...\n",
      "Name: Positive_Review, Length: 10000, dtype: object\n"
     ]
    }
   ],
   "source": [
    "## Clean data\n",
    "\n",
    "# Delete redundant and empty reviews\n",
    "\n",
    "def preprocessing_reviews(df):\n",
    "    df.drop(df[ df['Negative_Review'] == 'No Negative'].index)\n",
    "    df.drop(df[ df['Positive_Review'] == 'No Positive'].index)\n",
    "    df.drop_duplicates(keep=False)\n",
    "\n",
    "# Split into sentences and add dots to positive reviews and negative reviews\n",
    "    for text in df['Positive_Review']:\n",
    "        parts_of_review = re.findall('[A-Z][^A-Z]*', text)\n",
    "        for index, sentence in enumerate(parts_of_review):\n",
    "            if \"I \" or \"i \" in sentence:\n",
    "                parts_of_review[index : index +1] = [''.join(parts_of_review[index : index + 1])]\n",
    "            parts_of_review[index] = sentence.strip() + \".\"\n",
    "        complete_review = ' '.join(parts_of_review)\n",
    "\n",
    "        # correct 'n t'|'nt'|'n t' to ' not'\n",
    "        complete_review = re.sub(r'n\\s+t|n\\'t', ' not',complete_review)\n",
    "        df['Positive_Review'] = df['Positive_Review'].replace([text], complete_review)\n",
    "\n",
    "    for text in df['Negative_Review']:\n",
    "        parts_of_review = re.findall('[A-Z][^A-Z]*', text)\n",
    "        for index, sentence in enumerate(parts_of_review):\n",
    "            if \"I \" or \"i \" in sentence:\n",
    "                parts_of_review[index : index +1] = [''.join(parts_of_review[index : index + 1])]\n",
    "            parts_of_review[index] = sentence.strip() + \".\"\n",
    "        complete_review = ' '.join(parts_of_review)\n",
    "\n",
    "        # correct 'n t'|'nt'|'n t' to ' not'\n",
    "        complete_review = re.sub(r'n\\s+t|n\\'t', ' not',complete_review)\n",
    "        #        complete_review = re.sub(r'n\\s+t|n\\'t|nt ', ' not',complete_review)\n",
    "        df['Negative_Review'] = df['Negative_Review'].replace([text], complete_review)\n",
    "\n",
    "    return df\n",
    "\n",
    "\n",
    "\n",
    "\n",
    "df = preprocessing_reviews(df)\n",
    "pd.set_option(\"display.max_colwidth\", None) # -1?\n",
    "\n",
    "#TODO: Maybe i and I will lead to problems...\n",
    "#TODO: payments <= payme nots, restaurants <= restaura not, romantic <= Roma notic\n",
    "# My room was dirty and. I was afraid to walk barefoot o nothe floor \n",
    "\n",
    "# Quick check if wanted\n",
    "#print(df['Negative_Review'])\n",
    "#print(df['Positive_Review'])\n",
    "\n",
    "\n",
    "\n",
    "\n",
    "# Remove stopwords\n",
    "\n",
    "#nlp = spacy.load(\"en_core_web_sm\")\n",
    "#stopword_list = nltk.corpus.stopwords.words('english')\n",
    "\n",
    "\n",
    "# lower case\n",
    "\n",
    "\n",
    "# Lemmatization\n",
    "\n",
    "#print(df)\n",
    "\n",
    "\n"
   ],
   "metadata": {
    "collapsed": false,
    "pycharm": {
     "name": "#%%\n"
    }
   }
  },
  {
   "cell_type": "code",
   "execution_count": null,
   "outputs": [],
   "source": [
    "# maybe check for words with \"...nt\" and then split the nt. Then check, if it's a verb. If yes, change from \"didnt\" to \"did not\" with a regex. (If not, leave it)\n",
    "\n",
    "aspects_pos = []\n",
    "aspects_neg = []\n",
    "\n",
    "\n",
    "for review in df[\"Negative_Review\"]:\n",
    "  doc = nlp(review)\n",
    "  descriptors = ''\n",
    "  aspect = ''\n",
    "  for token in doc:\n",
    "    negation = False\n",
    "    for negative_token in doc:\n",
    "      if negative_token.dep_ == 'neg' and negative_token.head == token: negation = True \n",
    "    if token.dep_ == 'nsubj' and token.pos_ == 'NOUN':\n",
    "      aspect = token.text\n",
    "    if token.pos_ == 'ADJ':\n",
    "      prepend = ''\n",
    "      for child in token.children:\n",
    "        if child.pos_ != 'ADV': \n",
    "          continue\n",
    "        prepend += child.text + ' '\n",
    "      descriptors = prepend + token.text\n",
    "  aspects_neg.append({'aspect': aspect,\n",
    "    'description': descriptors, 'negation': negation})\n",
    "aspects_neg = pd.DataFrame(aspects_neg)\n",
    "#print(pd.DataFrame(aspects_neg))\n",
    "\n",
    "  #negation.extend([tok for tok in doc if tok.dep_ == 'neg'])\n",
    "for review in df[\"Positive_Review\"]:\n",
    "  doc = nlp(review)\n",
    "  descriptors = ''\n",
    "  aspect = ''\n",
    "  for token in doc:\n",
    "    negation = False\n",
    "    for negative_token in doc:\n",
    "      if negative_token.dep_ == 'neg' and negative_token.head == token: negation = True \n",
    "    if token.dep_ == 'nsubj' and token.pos_ == 'NOUN':\n",
    "      aspect = token.text\n",
    "    if token.pos_ == 'ADJ':\n",
    "      prepend = ''\n",
    "      for child in token.children:\n",
    "        if child.pos_ != 'ADV':\n",
    "          continue\n",
    "        prepend += child.text + ' '\n",
    "      descriptors = prepend + token.text\n",
    "  aspects_pos.append({'aspect': aspect,\n",
    "    'description': descriptors, 'negation': negation})\n",
    "aspects_pos = pd.DataFrame(aspects_pos)\n",
    "#print(pd.DataFrame(aspects_pos))\n",
    "\n",
    "\n",
    "\n"
   ],
   "metadata": {
    "collapsed": false,
    "pycharm": {
     "name": "#%%\n"
    }
   }
  },
  {
   "cell_type": "code",
   "execution_count": null,
   "outputs": [],
   "source": [
    "\n",
    "for boolean in aspects_neg['negation']:\n",
    "    if boolean == True: print(\"true\")\n",
    "\n",
    "for boolean in aspects_pos['negation']:\n",
    "    if boolean == True: print(\"true\")\n"
   ],
   "metadata": {
    "collapsed": false,
    "pycharm": {
     "name": "#%%\n"
    }
   }
  },
  {
   "cell_type": "code",
   "execution_count": null,
   "outputs": [],
   "source": [
    "\"\"\"countStemmer = Counter()\n",
    "\n",
    "for aspect in aspects['aspect']:\n",
    "    aspect = stemmer.stem( aspect)\n",
    "    aspect = aspect.lower()\n",
    "    countStemmer[aspect] += 1\n",
    "\n",
    "print(countStemmer)\"\"\"\n",
    "\n",
    "\n",
    "lemmatizer = WordNetLemmatizer()\n",
    "stemmer = SnowballStemmer(\"english\")\n",
    "\n",
    "countLemmaPos = Counter()\n",
    "countLemmaNeg = Counter()\n",
    "\n",
    "\n",
    "for aspect in aspects_pos['aspect']:\n",
    "    aspect = lemmatizer.lemmatize(aspect)\n",
    "    aspect = aspect.lower()\n",
    "    countLemmaPos[aspect] += 1\n",
    "\n",
    "\n",
    "for aspect in aspects_neg['aspect']:\n",
    "    aspect = lemmatizer.lemmatize(aspect)\n",
    "    aspect = aspect.lower()\n",
    "    countLemmaNeg[aspect] += 1\n",
    "\n",
    "print(countLemmaNeg, \"\\n\")\n",
    "print(countLemmaPos)\n",
    "\n",
    "\n",
    "\n",
    "    "
   ],
   "metadata": {
    "collapsed": false,
    "pycharm": {
     "name": "#%%\n"
    }
   }
  },
  {
   "cell_type": "code",
   "execution_count": null,
   "outputs": [],
   "source": [
    "sentiment_pos = []\n",
    "for aspect in aspects_pos['description']:\n",
    "  sentiment_pos.append(TextBlob(aspect).sentiment)\n",
    "aspects_pos['sentiment'] = sentiment_pos\n",
    "\n",
    "sentiment_neg = []\n",
    "for aspect in aspects_neg['description']:\n",
    "  sentiment_neg.append(TextBlob(aspect).sentiment)\n",
    "aspects_neg['sentiment'] = sentiment_neg\n"
   ],
   "metadata": {
    "collapsed": false,
    "pycharm": {
     "name": "#%%\n"
    }
   }
  },
  {
   "cell_type": "code",
   "execution_count": null,
   "outputs": [],
   "source": [
    "print(aspects_neg)"
   ],
   "metadata": {
    "collapsed": false,
    "pycharm": {
     "name": "#%%\n"
    }
   }
  },
  {
   "cell_type": "code",
   "execution_count": null,
   "outputs": [],
   "source": [
    "# Dependency parsing\n",
    "\n",
    "import nltk\n",
    "\n",
    "\n",
    "\n",
    "def dependency_parsing(df):\n",
    "    for sentence in df:\n",
    "        break\n",
    "  #      doc = nlp(sentence)\n",
    "\n",
    "\n"
   ],
   "metadata": {
    "collapsed": false,
    "pycharm": {
     "name": "#%%\n"
    }
   }
  },
  {
   "cell_type": "code",
   "execution_count": null,
   "outputs": [],
   "source": [
    "# In Addition:\n",
    "\n",
    "# I assume we are not supposed to do topic modeling, just \"simple\" rule based aspect extraction... right?\n",
    "\n",
    "# make Sentiment Analysis (only simple one: Textblob) for positive and negative reviews and check, if it fits,\n",
    "#                otherwise drop the review\n",
    "# -> example: \"I am so angry that i made this post available via all possible sites i use when planing my trips so\n",
    "#              no one will make the mistake of booking this place\"\n",
    "# maybe handle orthographical mistakes before splitting into sentences\n",
    "#\n",
    "\n"
   ],
   "metadata": {
    "collapsed": false,
    "pycharm": {
     "name": "#%%\n"
    }
   }
  },
  {
   "cell_type": "code",
   "execution_count": 97,
   "metadata": {
    "pycharm": {
     "name": "#%%\n"
    }
   },
   "outputs": [
    {
     "name": "stdout",
     "output_type": "stream",
     "text": [
      "Counter({'': 5923, 'room': 668, 'staff': 198, 'hotel': 167, 'bathroom': 160, 'bed': 121, 'breakfast': 108, 'rooms': 78, 'shower': 63, 'area': 53, 'service': 46, 'location': 45, 'view': 45, 'people': 42, 'restaura': 41, 'window': 39, 'price': 38, 'bar': 37, 'nothey': 36, 'door': 35, 'food': 33, 'water': 31, 'size': 30, 'conditioning': 30, 'disappoi': 29, 'bedroom': 29, 'floor': 24, 'reception': 21, 'one': 21, 'thing': 19, 'pillow': 18, 'system': 17, 'manager': 16, 'noise': 14, 'parking': 14, 'stay': 14, 'heating': 13, 'mattress': 13, 'lift': 13, 'facility': 13, 'place': 12, 'cost': 12, 'receptionist': 12, 'guest': 11, 'member': 11, 'egg': 11, 'table': 11, 'experience': 11, 'wall': 10, 'coffee': 10, 'work': 10, 'building': 10, 'bath': 10, 'space': 10, 'toilet': 10, 'tap': 10, 'rest': 10, 'person': 10, 'unit': 10, 'screen': 10, 'night': 9, 'choice': 9, 'wifi': 9, 'temperature': 9, 'issue': 9, 'nothere': 8, 'fridge': 8, 'tea': 8, 'housekeeping': 8, 'menu': 8, 'curtain': 8, 'husband': 8, 'towel': 8, 'quality': 8, 'wardrobe': 8, 'partner': 8, 'head': 8, 'light': 8, 'lifts': 8, 'construction': 7, 'stair': 7, 'lighting': 7, 'driver': 7, 'keeping': 7, 'key': 7, 'drink': 7, 'furniture': 7, 'rate': 7, 'baseme': 7, 'fan': 7, 'website': 7, 'nothat': 6, 'chair': 6, 'smell': 6, 'others': 6, 'customer': 6, 'dryer': 6, 'lady': 6, 'walk': 6, 'buffet': 6, 'pillows': 6, 'charge': 6, 'c': 6, 'milk': 6, 'problem': 6, 'daughter': 6, 'card': 6, 'poi': 6, 'bedrooms': 6, 'beds': 6, 'picture': 6, 'co': 6, 'elevator': 6, 'side': 6, 'photo': 5, 'socket': 5, 'friend': 5, 'end': 5, 'machine': 5, 'selection': 5, 'bathrooms': 5, 'son': 5, 'waiter': 5, 'cleaning': 5, 'lack': 5, 'lounge': 5, 'manageme': 5, 'couple': 5, 'v': 5, 'television': 5, 'alarm': 5, 'towels': 5, 'sink': 5, 'differe': 5, 'heater': 5, 'booking': 5, 'decor': 5, 'concierge': 5, 'air': 5, 'glazing': 5, 'tv': 5, 'family': 5, 'queue': 5, 'wife': 5, 'excelle': 5, 'pressure': 4, 'amou': 4, 'man': 4, 'desk': 4, 'com': 4, 'notrance': 4, 'radiator': 4, 'complai': 4, 'morning': 4, 'cup': 4, 'conditioner': 4, 'information': 4, 'kettle': 4, 'condition': 4, 'variety': 4, 'basin': 4, 'station': 4, 'fro': 4, 'check': 4, 'girl': 4, 'suite': 4, 'cleaner': 4, 'cubicle': 4, 'accommodation': 4, 'way': 4, 'nothe': 4, 'day': 4, 'sleep': 4, 'child': 4, 'cleanliness': 4, 'ceiling': 4, 'lot': 4, 'offer': 3, 'part': 3, 'prices': 3, 'answer': 3, 'taxi': 3, 'renovation': 3, 'design': 3, 'neighbour': 3, 'standard': 3, 'notrol': 3, 'tissue': 3, 'corridor': 3, 'number': 3, 'maid': 3, 'blanket': 3, 'neighbor': 3, 'option': 3, 'email': 3, 'meal': 3, 'car': 3, 'accou': 3, 'nots': 3, 'stuff': 3, 'guy': 3, 'kid': 3, 'detail': 3, 'whe': 3, 'con': 3, 'dece': 3, 'sheet': 3, 'hair': 3, 'step': 3, 'lobby': 3, 'generator': 3, 'city': 3, 'pai': 3, 'fitting': 3, 'twin': 3, 'item': 3, 'bit': 3, 'bottle': 3, 'duvet': 3, 'call': 3, 'lots': 3, 'money': 3, 'value': 3, 'barman': 3, 'cabinet': 3, 'decoration': 2, 'staircase': 2, 'aspect': 2, 'drain': 2, 'outside': 2, 'bank': 2, 'cor': 2, 'level': 2, 'see': 2, 'ticket': 2, 'payme': 2, 'doors': 2, 'min': 2, 'improveme': 2, 'layout': 2, 'gym': 2, 'boiler': 2, 'temp': 2, 'blackout': 2, 'nothis': 2, 'aircon': 2, 'atte': 2, 'hairdryer': 2, 'u': 2, 'range': 2, 'transport': 2, 'attitude': 2, 'felt': 2, 'safe': 2, 'pricey': 2, 'snack': 2, 'channel': 2, 'bag': 2, 'smile': 2, 'access': 2, 's': 2, 'dock': 2, 'pancake': 2, 'case': 2, 'seat': 2, 'appoi': 2, 'book': 2, 'bowl': 2, 'pipe': 2, 'fixture': 2, 'seala': 2, 'discou': 2, 'addition': 2, 'slipper': 2, 'colleague': 2, 'review': 2, 'arrival': 2, 'tray': 2, 'carpet': 2, 'tile': 2, 'bathrobes': 2, 'hand': 2, 'matress': 2, 'gripe': 2, 'company': 2, 'noterior': 2, 'notop': 2, 'thermostat': 2, 'shame': 2, 'lunch': 2, 'angle': 2, 'noter': 2, 'rail': 2, 'notilation': 2, 'time': 2, 'walls': 2, 'provision': 2, 'flush': 2, 'iron': 2, 'mark': 2, 'gap': 2, 'plug': 2, 'terrace': 2, 'roll': 2, 'traffic': 2, 'pm': 2, 'stain': 2, 'tip': 2, 'mushroom': 2, 'microwave': 2, 'elevators': 2, 'fact': 2, 'spa': 2, 'inconvenience': 2, 'supervisor': 2, 'quilt': 2, 'yo': 2, 'plan': 2, 'eve': 2, 'luggage': 2, 'leg': 2, 'que': 2, 'tables': 2, 'battery': 2, 'club': 2, 'adult': 2, 'neighborhood': 2, 'group': 2, 'property': 2, 'glass': 2, 'atmosphere': 2, 'park': 2, 'stairs': 2, 'mess': 1, 'euros': 1, 'dispenser': 1, 'mea': 1, 'rug': 1, 'notlemen': 1, 'varpet': 1, 'wireing': 1, 'desig': 1, 'renewal': 1, 'dinner': 1, 'rain': 1, 'disaster': 1, 'garden': 1, 'arena': 1, 'loads': 1, 'transpare': 1, 'drier': 1, 'receptioninst': 1, 'extra': 1, 'costs': 1, 'insonorisation': 1, 'cake': 1, 'notless': 1, 'clie': 1, 'fluctuation': 1, 'pole': 1, 'boxy': 1, 'closet': 1, 'signal': 1, 'outlook': 1, 'consta': 1, 'pi': 1, 'insolation': 1, 'help': 1, 'coverage': 1, 'ground': 1, 'acce': 1, 'blind': 1, 'pudding': 1, 'notal': 1, 'gown': 1, 'tub': 1, 'speaker': 1, 'pringles': 1, 'mat': 1, 'weetabix': 1, 'yoi': 1, 'balcony': 1, 'advertising': 1, 'details': 1, 'self': 1, 'preve': 1, 'brillia': 1, 'personnel': 1, 'team': 1, 'caliber': 1, 'minute': 1, 'cab': 1, 'thames': 1, 'notertainme': 1, 'nightlight': 1, 'weather': 1, 'kipper': 1, 'pricing': 1, 'address': 1, 'restrictions': 1, 'cord': 1, 'omelette': 1, 'owners': 1, 'drinks': 1, 'feel': 1, 'ide': 1, 'pic': 1, 'manky': 1, 'perso': 1, 'mai': 1, 'wood': 1, 'cover': 1, 'boy': 1, 'samma': 1, 'i.': 1, 'eleme': 1, 'father': 1, 'catastrophe': 1, 'flight': 1, 'barma': 1, 'friendliness': 1, 'refund': 1, 'monies': 1, 'clipping': 1, 'roof': 1, 'sofa': 1, 'matter': 1, 'keycard': 1, 'operator': 1, 'queen': 1, 'sharing': 1, 'birthday': 1, 'halogen': 1, 'sachet': 1, 'shard': 1, 'market': 1, 'consiste': 1, 'tai': 1, 'package': 1, 'skin': 1, 'idea': 1, 'tiles': 1, 'noternet': 1, 'kind': 1, 'manner': 1, 'bread': 1, 'sistem': 1, 'box': 1, 'cupboard': 1, 'rese': 1, 'word': 1, 'owner': 1, 'lipstick': 1, 'exchange': 1, 'button': 1, 'connection': 1, 'satellite': 1, 'mirror': 1, 'basme': 1, 'sausages': 1, 'corridors': 1, 'panelling': 1, 'approx': 1, 'needs': 1, 'apartme': 1, 'left': 1, 'hook': 1, 'finishing': 1, 'manual': 1, 'e': 1, 'set': 1, 'passage': 1, 'icon': 1, 'cheese': 1, 'facade': 1, 'champagne': 1, 'exterior': 1, 'engineer': 1, 'cap': 1, 'freque': 1, 'drilling': 1, 'image': 1, 'barrier': 1, 'damage': 1, 'luxury': 1, 'elbow': 1, 'right': 1, 'upgrade': 1, 'keep': 1, 'signage': 1, 'refunderble': 1, 'resolution': 1, 'wallpaper': 1, 'dirt': 1, 'londo': 1, 'benedict': 1, 'tube': 1, 'slice': 1, 'furnishings': 1, 'feedback': 1, 'working': 1, 'letter': 1, 'restura': 1, 'pound': 1, 'rim': 1, 'notelevision': 1, 'reservation': 1, 'lamb': 1, 'misreprese': 1, 'catering': 1, 'aeroplane': 1, 'windows': 1, 'edge': 1, 'managers': 1, 'supply': 1, 'activity': 1, 'attempt': 1, 'americans': 1, 'organization': 1, 'smoker': 1, 'fitness': 1, 'cooing': 1, 'flannel': 1, 'chill': 1, 'laud': 1, 'bulb': 1, 'wndows': 1, 'buscuits': 1, 'whisky': 1, 'din': 1, 'cotton': 1, 'bathtub': 1, 'aisle': 1, 'ours': 1, 'reply': 1, 'tutorial': 1, 'ashtray': 1, 'ect': 1, 'line': 1, 'charger': 1, 'none': 1, 'noto': 1, 'dessert': 1, 'ple': 1, 'guide': 1, 'gra': 1, 'airconditioner': 1, 'sister': 1, 'equipme': 1, 'mom': 1, 'toiletry': 1, 'store': 1, 'topper': 1, 'toiletries': 1, 'support': 1, 'pastry': 1, 'mass': 1, 'sunlight': 1, 'wait': 1, 'recovery': 1, 'traveller': 1, 'character': 1, 'breeze': 1, 'majority': 1, 'incide': 1, 'process': 1, 'eggs': 1, 'bridge': 1, 'importa': 1, 'otherside': 1, 'insufficie': 1, 'restuara': 1, 'caffeine': 1, 'tour': 1, 'atrium': 1, 'chocolate': 1, 'chicken': 1, 'sttiff': 1, 'cloth': 1, 'movie': 1, 'belief': 1, 'notepid': 1, 'venue': 1, 'response': 1, 'handle': 1, 'kitchen': 1, 'fryer': 1, 'desert': 1, 'recliner': 1, 'half': 1, 'picking': 1, 'cleaners': 1, 'scale': 1, 'scene': 1, 'fruit': 1, 'position': 1, 'world': 1, 'radio': 1, 'compartme': 1, 'di': 1, 'roadworks': 1, 'bus': 1, 'complime': 1, 'seating': 1, 'advertiseme': 1, 'candle': 1, 'suit': 1, 'facilities': 1, 'televisions': 1, 'bean': 1, 'fish': 1, 'complex': 1, 'notube': 1, 'issu': 1, 'flow': 1, 'herd': 1, 'site': 1, 'factor': 1, 'aldwych': 1, 'pool': 1, 'suitcase': 1, 'euro': 1, 'bacon': 1, 'wine': 1, 'employee': 1, 'hallways': 1, 'medal': 1, 'amenity': 1, 'fault': 1, 'street': 1, 'enclosure': 1, 'heat': 1, 'espresso': 1, 'lightning': 1, 'eg': 1, 'oder': 1, 'grab': 1, 'halls': 1, 'notine': 1, 'name': 1, 'hanger': 1, 'advice': 1, 'rudeness': 1, 'stop': 1, 'patrons': 1, 'jazz': 1, 'lamp': 1, 'newspaper': 1, 'handling': 1, 'patron': 1, 'maker': 1, 'refugee': 1, 'staffs': 1, 'police': 1, 'nightclub': 1, 'hundred': 1, 'invain': 1, 'explanation': 1, 'visitor': 1, 'metro': 1, 'addicts': 1, 'expense': 1, 'dau': 1, 'neigborhood': 1, 'girlfriend': 1, 'showering': 1, 'sandwich': 1, 'wash': 1, 'house': 1, 'behavior': 1, 'press': 1, 'surroudings': 1, 'cell': 1, 'dog': 1, 'skylight': 1, 'fai': 1, 'positioning': 1, 'let': 1, 'inch': 1, 'exercise': 1, 'trade': 1, 'scaffolding': 1, 'confusion': 1, 'prese': 1, 'rating': 1, 'platter': 1, 'equivale': 1, 'upset': 1, 'attic': 1, 'visit': 1, 'shop': 1, 'employme': 1, 'workman': 1, 'shuttle': 1, 'tad': 1, 'wind': 1, 'catch': 1, 'notold': 1, 'definatley': 1, 'whole': 1, 'finish': 1, 'drunk': 1, 'garbage': 1, 'wos': 1, 'difficulty': 1, 'woman': 1, 'd': 1, 'hotels': 1, 'filter': 1, 'menue': 1, 'sheets': 1, 'mug': 1, 'doorstep': 1, 'pro': 1, 'notenance': 1, 'pilows': 1, 'idiot': 1, 'pri': 1, 'handrail': 1, 'bathtube': 1, 'deluxe': 1, 'bedcover': 1, 'involu': 1, 'music': 1, 'doorman': 1, 'shape': 1, 'builder': 1, 'remained': 1, 'airconditioning': 1, 'advert': 1, 'pampering': 1, 'banana': 1, 'fluency': 1, 'getaway': 1, 'panini': 1, 'mistake': 1, 'royal': 1, 'order': 1, 'clean': 1, 'ion': 1, 'maids': 1, 'spring': 1, 'floorboard': 1, 'romm': 1, 'distance': 1}) \n",
      "\n",
      "Counter({'': 5560, 'staff': 959, 'location': 574, 'room': 500, 'hotel': 248, 'bed': 137, 'breakfast': 117, 'bathroom': 72, 'service': 61, 'rooms': 57, 'food': 55, 'stay': 53, 'excelle': 52, 'view': 49, 'bar': 40, 'area': 38, 'restaura': 34, 'station': 33, 'shower': 30, 'facility': 29, 'building': 27, 'reception': 20, 'size': 20, 'min': 20, 'park': 19, 'price': 16, 'minute': 15, 'thing': 15, 'appoi': 14, 'receptionist': 13, 'child': 13, 'buffet': 12, 'tube': 12, 'beds': 12, 'floor': 12, 'people': 11, 'place': 11, 'decor': 11, 'bedroom': 11, 'selection': 10, 'fro': 10, 'wifi': 10, 'choice': 10, 'position': 10, 'concierge': 10, 'suite': 10, 'atmosphere': 10, 'one': 9, 'street': 9, 'value': 9, 'space': 8, 'garden': 8, 'lobby': 8, 'desk': 8, 'property': 7, 'ambience': 7, 'atte': 7, 'elega': 7, 'staffs': 7, 'phone': 7, 'tea': 7, 'nothey': 6, 'style': 6, 'experience': 6, 'walk': 6, 'quality': 6, 'locatio': 6, 'guest': 6, 'ple': 6, 'bath': 6, 'mai': 6, 'gardens': 6, 'birthday': 6, 'brillia': 6, 'member': 6, 'daughter': 6, 'kid': 6, 'design': 5, 'work': 5, 'layout': 5, 'nots': 5, 'menu': 5, 'wife': 5, 'water': 5, 'upgrade': 5, 'lady': 5, 'kitchenette': 5, 'accommodation': 5, 'nothat': 4, 'meal': 4, 'decoration': 4, 'personnel': 4, 'parking': 4, 'person': 4, 'line': 4, 'team': 4, 'trip': 4, 'husband': 4, 'access': 4, 'wine': 4, 'fruit': 4, 'boy': 4, 'lot': 4, 'stuff': 4, 'convenience': 4, 'notrance': 4, 'window': 4, 'children': 4, 'machine': 4, 'proximity': 4, 'conditioning': 4, 'range': 3, 'guy': 3, 'picture': 3, 'freque': 3, 'standard': 3, 'noterior': 3, 'underground': 3, 'duvet': 3, 'bus': 3, 'efficie': 3, 'manager': 3, 'name': 3, 'amenities': 3, 'toilet': 3, 'table': 3, 'porter': 3, 'lift': 3, 'son': 3, 'comfort': 3, 'welcome': 3, 'doorman': 3, 'time': 3, 'cocktail': 3, 'character': 3, 'architecture': 3, 'coffee': 3, 'anniversary': 3, 'studio': 3, 'eye': 3, 'pack': 3, 'apartme': 3, 'gym': 3, 'bridge': 3, 'views': 3, 'good': 3, 'connection': 3, 'option': 2, 'transportation': 2, 'cafe': 2, 'setting': 2, 'cleanliness': 2, 'level': 2, 'metro': 2, 'drink': 2, 'tram': 2, 'link': 2, 'bike': 2, 'family': 2, 'weather': 2, 'prese': 2, 'nothis': 2, 'game': 2, 'lounge': 2, 'duck': 2, 'notive': 2, 'toiletry': 2, 'idea': 2, 'check': 2, 'product': 2, 'stop': 2, 'day': 2, 'celebration': 2, 'bathrooms': 2, 'dece': 2, 'def': 2, 'treat': 2, 'site': 2, 'heating': 2, 'statio': 2, 'ideal': 2, 'pastry': 2, 'friend': 2, 'neighborhood': 2, 'partner': 2, 'busses': 2, 'disappoi': 2, 'lots': 2, 'flower': 2, 'star': 2, 'stone': 2, 'agai': 2, 'facilities': 2, 'chocolate': 2, 'notion': 2, 'vibe': 2, 'exit': 2, 'marble': 2, 'exterior': 2, 'facade': 2, 'rate': 2, 'taxi': 2, 'email': 2, 'cake': 2, 'hall': 2, 'v': 2, 'orie': 2, 'offer': 2, 'morning': 2, 'security': 2, 'shard': 2, 'tv': 2, 'system': 2, 'whe': 2, 'balloon': 2, 'weekend': 2, 'group': 2, 'business': 2, 'pillow': 2, 'door': 2, 'champagne': 2, 'detail': 2, 'elevator': 2, 'customer': 2, 'history': 2, 'porters': 2, 'nothere': 2, 'extra': 2, 'quai': 2, 'party': 1, 'smell': 1, 'bathtub': 1, 'brunch': 1, 'notre': 1, 'nail': 1, 'burger': 1, 'amenity': 1, 'plans': 1, 'channel': 1, 'crews': 1, 'matress': 1, 'laundrette': 1, 'sunshine': 1, 'lines': 1, 'cab': 1, 'adult': 1, 'noter': 1, 'importa': 1, 'i.': 1, 'guests': 1, 'breakfest': 1, 'pleasa': 1, 'approach': 1, 'superb': 1, 'supper': 1, 'efficiency': 1, 'furnishing': 1, 'apex': 1, 'terrace': 1, 'court': 1, 'lane': 1, 'bench': 1, 'board': 1, 'port': 1, 'impression': 1, 'drinks': 1, 'chair': 1, 'elepha': 1, 'noteriors': 1, 'queue': 1, 'fi': 1, 'travel': 1, 'riverside': 1, 'sleep': 1, 'waitress': 1, 'question': 1, 'trouble': 1, 'styling': 1, 'deluxe': 1, 'welcoming': 1, 'club': 1, 'district': 1, 'arrangeme': 1, 'hotelw': 1, 'surprise': 1, 'co': 1, 'executive': 1, 'professionalism': 1, 'towels': 1, 'satisfaction': 1, 'girl': 1, 'knee': 1, 'meals': 1, 'restarau': 1, 'hairdryers': 1, 'qualm': 1, 'neighbour': 1, 'rain': 1, 'grout': 1, 'knowledge': 1, 'harrods': 1, 'touch': 1, 'environme': 1, 'use': 1, 'type': 1, 'pass': 1, 'device': 1, 'dryer': 1, 'call': 1, 'ac': 1, 'ride': 1, 'mobile': 1, 'cleaning': 1, 'difference': 1, 'luggage': 1, 'workforce': 1, 'cross': 1, 'sister': 1, 'plan': 1, 'minutes': 1, 'concept': 1, 'whole': 1, 'gesture': 1, 'provision': 1, 'images': 1, 'aura': 1, 'market': 1, 'experiance': 1, 'stress': 1, 'ps': 1, 'gate': 1, 'cushion': 1, 'response': 1, 'yougurt': 1, 'need': 1, 'smartphone': 1, 'issue': 1, 'encou': 1, 'arrears': 1, 'pastries': 1, 'grandeur': 1, 'request': 1, 'downside': 1, 'notil': 1, 'suprise': 1, 'rack': 1, 'period': 1, 'heater': 1, 'tour': 1, 'consierge': 1, 'incl': 1, 'museum': 1, 'sense': 1, 'newspapers': 1, 'hashbrown': 1, 'monies': 1, 'telephone': 1, 'noties': 1, 'tree': 1, '15mins': 1, 'men': 1, 'wind': 1, 'king': 1, 'lotion': 1, 'fan': 1, 'trainee': 1, 'couple': 1, 'direction': 1, 'locoation': 1, 'placeme': 1, 'dinner': 1, 'soas': 1, 'siren': 1, 'fa': 1, 'renovation': 1, 'elevators': 1, 'communication': 1, 'package': 1, 'glamour': 1, 'pickup': 1, 'freezer': 1, 'londo': 1, 'butter': 1, 'mother': 1, 'dungeon': 1, 'parlime': 1, 'thanks': 1, 'situation': 1, 'cleaner': 1, 'cables': 1, 'attraction': 1, 'gift': 1, 'back': 1, 'couch': 1, 'housekeeping': 1, 'excele': 1, 'dungeons': 1, 'notidy': 1, 'chap': 1, 'con': 1, 'house': 1, 'swish': 1, 'mini': 1, 'charge': 1, 'petal': 1, 'reason': 1, 'housekeeper': 1, 'card': 1, 'bartender': 1, 'laundry': 1, 'premier': 1, 'facilties': 1, 'visit': 1, 'effort': 1, 'everythind': 1, 'kichenette': 1, 'toiletries': 1, 'sausage': 1, 'premise': 1, 'accomodation': 1, 'highlight': 1, 'checkout': 1, 'swift': 1, 'photo': 1, 'flight': 1, 'look': 1, 'loads': 1, 'paulina': 1, 'collection': 1, 'egg': 1, 'neighbourhood': 1, 'facilites': 1, 'perk': 1, 'woman': 1, 'pillows': 1, 'break': 1, 'veiw': 1, 'restra': 1, 'struggle': 1, 'spoon': 1, 'attitude': 1, 'fab': 1, 'jet': 1, 'shwer': 1, 'spa': 1, 'city': 1, 'suites': 1, 'show': 1, 'cocktails': 1, 'sink': 1, 'note': 1, 'cotswolds': 1, 'catering': 1, 'defia': 1, 'pool': 1, 'balcony': 1, 'occasion': 1, 'elysees': 1, 'tower': 1, 'services': 1, 'buses': 1, 'pot': 1, 'speed': 1, 'quarter': 1, 'server': 1, 'odeon': 1, 'breakfasts': 1, 'seine': 1, 'maid': 1, 'man': 1, 'smiley': 1, 'bellman': 1, 'booking': 1, 'fridge': 1, 'riph': 1, 'part': 1, 'loacation': 1, 'pictures': 1, 'thought': 1, 'basin': 1, 'rece': 1, 'bell': 1, 'cot': 1, 'manageme': 1, 'mommies': 1, 'hospitality': 1, 'guide': 1, 'notrip': 1, 'stairwell': 1, 'bra': 1, 'money': 1, 'basket': 1, 'end': 1, 'problem': 1, 'fact': 1, 'way': 1, 'heat': 1, 'refurbishme': 1, 'barman': 1, 'outside': 1, 'noternet': 1, 's': 1, 'poi': 1, 'ceiling': 1, 'world': 1, 'cost': 1, 'tip': 1, 'photos': 1, 'keeping': 1, 'courtesy': 1, 'eateries': 1, 'foyer': 1, 'distance': 1, 'breafast': 1, 'boiler': 1, 'ambie': 1, 'victor': 1, 'feature': 1, 'cor': 1, 'sistem': 1, 'paneling': 1, 'pm': 1, 'meeting': 1, 'description': 1, 'night': 1, 'meter': 1, 'notage': 1, 'answer': 1, 'garage': 1, 'spelling': 1, 'tourist': 1, 'book': 1, 'hill': 1, 'bedrooms': 1, 'earth': 1, 'panelling': 1, 'elegance': 1, 'route': 1, 'goody': 1, 'sheet': 1, 'sation': 1, 'carpet': 1, 'deckkor': 1, 'noteam': 1})\n"
     ]
    }
   ],
   "source": [
    "\"\"\"countStemmer = Counter()\n",
    "\n",
    "for aspect in aspects['aspect']:\n",
    "    aspect = stemmer.stem( aspect)\n",
    "    aspect = aspect.lower()\n",
    "    countStemmer[aspect] += 1\n",
    "\n",
    "print(countStemmer)\"\"\"\n",
    "\n",
    "\n",
    "lemmatizer = WordNetLemmatizer()\n",
    "stemmer = SnowballStemmer(\"english\")\n",
    "\n",
    "countLemmaPos = Counter()\n",
    "countLemmaNeg = Counter()\n",
    "\n",
    "\n",
    "for aspect in aspects_pos['aspect']:\n",
    "    aspect = lemmatizer.lemmatize(aspect)\n",
    "    aspect = aspect.lower()\n",
    "    countLemmaPos[aspect] += 1\n",
    "\n",
    "\n",
    "for aspect in aspects_neg['aspect']:\n",
    "    aspect = lemmatizer.lemmatize(aspect)\n",
    "    aspect = aspect.lower()\n",
    "    countLemmaNeg[aspect] += 1\n",
    "\n",
    "print(countLemmaNeg, \"\\n\")\n",
    "print(countLemmaPos)\n",
    "\n",
    "\n",
    "\n",
    "    "
   ]
  },
  {
   "cell_type": "code",
   "execution_count": 98,
   "metadata": {
    "pycharm": {
     "name": "#%%\n"
    }
   },
   "outputs": [],
   "source": [
    "sentiment_pos = []\n",
    "for aspect in aspects_pos['description']:\n",
    "  sentiment_pos.append(TextBlob(aspect).sentiment)\n",
    "aspects_pos['sentiment'] = sentiment_pos\n",
    "\n",
    "sentiment_neg = []\n",
    "for aspect in aspects_neg['description']:\n",
    "  sentiment_neg.append(TextBlob(aspect).sentiment)\n",
    "aspects_neg['sentiment'] = sentiment_neg\n"
   ]
  },
  {
   "cell_type": "code",
   "execution_count": 99,
   "metadata": {
    "pycharm": {
     "name": "#%%\n"
    }
   },
   "outputs": [
    {
     "name": "stdout",
     "output_type": "stream",
     "text": [
      "      aspect   description  negation    sentiment\n",
      "0       room         newer     False   (0.0, 0.0)\n",
      "1                 Negative     False  (-0.3, 0.4)\n",
      "2      rooms         empty     False  (-0.1, 0.5)\n",
      "3      offer         ready     False   (0.2, 0.5)\n",
      "4     photos         happy     False   (0.8, 1.0)\n",
      "...      ...           ...       ...          ...\n",
      "9995              Negative     False  (-0.3, 0.4)\n",
      "9996                           False   (0.0, 0.0)\n",
      "9997          Very cramped     False   (0.2, 0.3)\n",
      "9998              Negative     False  (-0.3, 0.4)\n",
      "9999                           False   (0.0, 0.0)\n",
      "\n",
      "[10000 rows x 4 columns]\n"
     ]
    }
   ],
   "source": [
    "print(aspects_neg)"
   ]
  },
  {
   "cell_type": "code",
   "execution_count": 100,
   "metadata": {
    "pycharm": {
     "name": "#%%\n"
    }
   },
   "outputs": [],
   "source": [
    "# Dependency parsing\n",
    "\n",
    "import nltk\n",
    "\n",
    "\n",
    "\n",
    "def dependency_parsing(df):\n",
    "    for sentence in df:\n",
    "        break\n",
    "  #      doc = nlp(sentence)\n",
    "\n",
    "\n"
   ]
  },
  {
   "cell_type": "code",
   "execution_count": 101,
   "metadata": {
    "collapsed": false,
    "pycharm": {
     "name": "#%%\n"
    }
   },
   "outputs": [],
   "source": [
    "# In Addition:\n",
    "\n",
    "# I assume we are not supposed to do topic modeling, just \"simple\" rule based aspect extraction... right?\n",
    "\n",
    "# make Sentiment Analysis (only simple one: Textblob) for positive and negative reviews and check, if it fits,\n",
    "#                otherwise drop the review\n",
    "# -> example: \"I am so angry that i made this post available via all possible sites i use when planing my trips so\n",
    "#              no one will make the mistake of booking this place\"\n",
    "# maybe handle orthographical mistakes before splitting into sentences\n",
    "#\n",
    "\n"
   ]
  },
  {
   "cell_type": "code",
   "execution_count": 102,
   "metadata": {
    "pycharm": {
     "name": "#%%\n"
    }
   },
   "outputs": [],
   "source": [
    "# Define rules for extracting aspects: keywords:\n",
    "\n",
    "# Aspect food: restaurant, breakfast, dinner, lunch, bar\n",
    "# Aspect helpfulness: staff, personell, clerk, service, check-in\n",
    "# Aspect price: cheap, expensive, euros, ...?\n",
    "# Aspect cleanliness: bed, matress, bathroom, floor, sheets, \"changed daily\", shower\n",
    "# Aspect features/equipment:  USB-port, wifi, airconditioning, showergel, shampoo, furniture, roomservice, bathtub\n",
    "# Aspect connectivity: bus, tram, train, airportshuttle, parking\n",
    "# Aspect property: stairs (steep), building, (under-)construction, renovation, location, citycenter, sightseeing\n"
   ]
  },
  {
   "cell_type": "markdown",
   "metadata": {
    "pycharm": {
     "name": "#%% md\n"
    }
   },
   "source": [
    "Presentation: Spatial-Mapping where hotels are // where guests are from\n",
    "=> maybe what aspects are mentioned by primarily by guests by nationality or positive/negative in general\n",
    "\n"
   ]
  }
 ],
 "metadata": {
  "interpreter": {
   "hash": "e43f124e1ea1d991d0c91ea6d45435c58cf7e4d64007c2e350d71ef52ef4b11c"
  },
  "kernelspec": {
   "display_name": "Python 3.9.12 ('venv': venv)",
   "language": "python",
   "name": "python3"
  },
  "language_info": {
   "codemirror_mode": {
    "name": "ipython",
    "version": 3
   },
   "file_extension": ".py",
   "mimetype": "text/x-python",
   "name": "python",
   "nbconvert_exporter": "python",
   "pygments_lexer": "ipython3",
   "version": "3.9.12"
  },
  "orig_nbformat": 4
 },
 "nbformat": 4,
 "nbformat_minor": 2
}